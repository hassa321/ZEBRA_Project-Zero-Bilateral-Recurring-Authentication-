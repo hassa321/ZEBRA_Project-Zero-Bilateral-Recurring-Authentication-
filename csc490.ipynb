{
  "nbformat": 4,
  "nbformat_minor": 0,
  "metadata": {
    "colab": {
      "name": "csc490.ipynb",
      "provenance": [],
      "collapsed_sections": []
    },
    "kernelspec": {
      "name": "python3",
      "display_name": "Python 3"
    }
  },
  "cells": [
    {
      "cell_type": "markdown",
      "metadata": {
        "id": "xlqVX3TfbWQI",
        "colab_type": "text"
      },
      "source": [
        "# CSC490H5 Model.\n",
        "\n",
        "---\n",
        "\n",
        "I am trying to make the model that the researchers used in this paper: https://arxiv.org/pdf/1505.05779.pdf"
      ]
    },
    {
      "cell_type": "code",
      "metadata": {
        "id": "V5eNkWvhbWQQ",
        "colab_type": "code",
        "colab": {}
      },
      "source": [
        "import pandas as pd\n",
        "import numpy as np\n",
        "import matplotlib.pyplot as plt\n",
        "\n",
        "import torch\n",
        "import torch.nn as nn\n",
        "\n",
        "import re\n",
        "import glob\n",
        "\n",
        "from sklearn.model_selection import train_test_split\n",
        "from sklearn.ensemble import RandomForestClassifier\n",
        "from sklearn import metrics"
      ],
      "execution_count": 0,
      "outputs": []
    },
    {
      "cell_type": "markdown",
      "metadata": {
        "id": "tN0FBezuFO4K",
        "colab_type": "text"
      },
      "source": [
        "Connect to google drive"
      ]
    },
    {
      "cell_type": "code",
      "metadata": {
        "id": "1DJIRx-YbWQd",
        "colab_type": "code",
        "colab": {}
      },
      "source": [
        "from google.colab import drive\n",
        "drive.mount('/content/gdrive')"
      ],
      "execution_count": 0,
      "outputs": []
    },
    {
      "cell_type": "code",
      "metadata": {
        "id": "LDPwmxxsbWQk",
        "colab_type": "code",
        "outputId": "3422bce1-2d76-4d17-c770-e68415093e74",
        "colab": {
          "base_uri": "https://localhost:8080/",
          "height": 34
        }
      },
      "source": [
        "path_to_data = \"/content/gdrive/My Drive/School Winter 2020/Csc490/data/\"\n",
        "\n",
        "watch_data = path_to_data + '*.csv'\n",
        "keyboard_log = path_to_data + '*.log'\n",
        "\n",
        "watch_acceleration = {}\n",
        "keyboard_logs = {}\n",
        "\n",
        "for file in glob.glob(watch_data):\n",
        "  # So using glob messes with order, which is why we are doing this\n",
        "  filename = int(file.split(\"/\")[-1].strip(\".csv\").strip(\"watch_\"))-1\n",
        "  wa = [line.strip().split(\",\") for line in open(file) if line.strip().split(\",\") != '']\n",
        "  watch_acceleration[filename] = wa\n",
        "\n",
        "for file in glob.glob(keyboard_log):\n",
        "  filename = int(file.split(\"/\")[-1].strip(\".log\").strip(\"keys_\"))-1\n",
        "  kd = [line.strip() for line in open(file)]\n",
        "  keyboard_logs[filename] = kd\n",
        "\n",
        "\n",
        "# This is to fix the mess caused by glob\n",
        "watch_acc = []\n",
        "for i in range(len(watch_acceleration.keys())):\n",
        "  watch_acc.extend(watch_acceleration[i])\n",
        "\n",
        "print(len(watch_acc))"
      ],
      "execution_count": 231,
      "outputs": [
        {
          "output_type": "stream",
          "text": [
            "190241\n"
          ],
          "name": "stdout"
        }
      ]
    },
    {
      "cell_type": "markdown",
      "metadata": {
        "id": "zcxfXRLPGGwk",
        "colab_type": "text"
      },
      "source": [
        "Seperate the keyboard log into \"key pressed\" and \"key up\" events."
      ]
    },
    {
      "cell_type": "code",
      "metadata": {
        "id": "7AVkjX4xGVIc",
        "colab_type": "code",
        "outputId": "04577b9a-67fe-480e-f347-90b0bae3b066",
        "colab": {
          "base_uri": "https://localhost:8080/",
          "height": 52
        }
      },
      "source": [
        "locations = {\"left\": 0, \"center\": 1, \"right\": 2}\n",
        "special_keys = {\"Shift\": 1, \"Control\": 2, \"Alt\": 3, \"None\": 0}\n",
        "\n",
        "all_keys_pressed = {}\n",
        "all_keys_released = {}\n",
        "all_keys_used = [] # Used later in one_hotting the keys\n",
        "last_event = None\n",
        "\n",
        "p = re.compile(r\"index.html:[0-9]* (?P<timestamp>[0-9]*), (?P<event>[a-z]*), (?P<key>([a-zA-Z0-9]*|[^a-zA-Z0-9_])), (?P<location>(left|center|right))\")\n",
        "\n",
        "for index in keyboard_logs.keys():\n",
        "  key_log = keyboard_logs[index]\n",
        "  keys_pressed = []\n",
        "  keys_released = []\n",
        "  for line in key_log:\n",
        "    s = p.search(line)\n",
        "\n",
        "    timestamp = int(s.group(\"timestamp\"))\n",
        "    event     = s.group(\"event\")\n",
        "    key       = s.group(\"key\")\n",
        "    location  = s.group(\"location\")\n",
        "\n",
        "    # If the special keys were pressed with the others, then just add as a tag\n",
        "    if key in [\"Shift\", \"Control\", \"Alt\"] and last_event == \"keypress\":\n",
        "      keys_pressed[-1][-1] = special_keys[key]\n",
        "      continue \n",
        "\n",
        "    last_event = event\n",
        "\n",
        "    if event == \"keypress\":\n",
        "      # Timestamp, key side, key\n",
        "      keys_pressed.append([timestamp, key, locations[location], 0]) # Last is for special keys\n",
        "    elif event == \"keyup\" and key not in [\"Shift\", \"Control\", \"Alt\", \"Backspace\", \"ArrowLeft\", \"ArrowRight\"]:\n",
        "      # For now ignore these, figuring out what to do with them is a later problem\n",
        "      keys_released.append([timestamp, key, locations[location], 0])\n",
        "  all_keys_pressed[index] = keys_pressed\n",
        "  all_keys_released[index] = keys_released\n",
        "\n",
        "# We would like to start measuring from when our first key is let go \n",
        "# Because that is how we measure sequences\n",
        "\n",
        "keys_pressed = []\n",
        "keys_released = []\n",
        "\n",
        "for index in all_keys_pressed.keys():\n",
        "  kp = all_keys_pressed[index]\n",
        "  keys_pressed.extend(kp[1:])\n",
        "\n",
        "for index in all_keys_released.keys():\n",
        "  kr = all_keys_released[index]\n",
        "  keys_released.extend(kr[0:-1])\n",
        "\n",
        "print(len(keys_pressed))    # 10473\n",
        "print(len(keys_released))   # 10473"
      ],
      "execution_count": 232,
      "outputs": [
        {
          "output_type": "stream",
          "text": [
            "10473\n",
            "10473\n"
          ],
          "name": "stdout"
        }
      ]
    },
    {
      "cell_type": "markdown",
      "metadata": {
        "id": "WNSJCRNpFarQ",
        "colab_type": "text"
      },
      "source": [
        "Go through all our data and split up the watch data by the timestamp from the keyboard log. \n",
        "\n",
        "Each sequence begins when the first key is lifted, and ends when the next key is pressed. \n",
        "\n",
        "Map each sequence to a key."
      ]
    },
    {
      "cell_type": "code",
      "metadata": {
        "id": "EyW1D_IJbWQx",
        "colab_type": "code",
        "colab": {
          "base_uri": "https://localhost:8080/",
          "height": 106
        },
        "outputId": "5de37b40-556d-4dd0-d85e-ff575f55204d"
      },
      "source": [
        "sequences = []\n",
        "predictions = []\n",
        "count = 0\n",
        "\n",
        "copy_acc = watch_acc\n",
        "\n",
        "for i in range(len(keys_pressed)):\n",
        "\n",
        "  if count > 10:\n",
        "    break \n",
        "  start = int(keys_released[i][0])\n",
        "  end = int(keys_pressed[i][0])\n",
        "\n",
        "  key = keys_pressed[i][1]\n",
        "  loc = keys_pressed[i][2] #Ignore for now\n",
        "\n",
        "  sequence = []\n",
        "\n",
        "  while len(copy_acc) != 0:\n",
        "    # We want to remove the line so we dont have to iterate trough everything again\n",
        "    line = copy_acc.pop(0)\n",
        "    if line == ['']:\n",
        "      continue \n",
        "\n",
        "    time, acc_x, acc_y, acc_z = line[0], line[1], line[2], line[3]\n",
        "\n",
        "    current_time = int(time)\n",
        "\n",
        "    if current_time < start:\n",
        "      continue \n",
        "    if current_time >= end:\n",
        "      break \n",
        "\n",
        "    sequence.append([float(acc_x), float(acc_y), float(acc_z)])\n",
        "  predictions.append(key)\n",
        "  sequences.append(sequence)\n",
        "\n",
        "# We want to know how much data we have\n",
        "# Should match up with how many keys_pressed we have\n",
        "print(len(sequences))\n",
        "print(len(predictions)) \n",
        "print(sequences[:5])\n",
        "print()"
      ],
      "execution_count": 233,
      "outputs": [
        {
          "output_type": "stream",
          "text": [
            "10473\n",
            "10473\n",
            "[[[0.07492512464523315, 0.010624483227729797, 0.06074047088623047], [0.023304224014282227, -0.0027136504650115967, -0.0067768096923828125], [-0.025712013244628906, -0.01874162256717682, 0.02060467004776001], [0.04109373688697815, -0.024065181612968445, 0.022174596786499023], [-0.012615591287612915, -0.04327927529811859, -0.03681755065917969], [-0.02747499942779541, -0.03363946080207825, -0.026925265789031982], [0.01081821322441101, -0.035822898149490356, -0.0064498186111450195]], [[0.01199999451637268, 0.042885422706604004, -0.002495288848876953], [0.008670210838317871, 0.043125420808792114, -0.006142079830169678], [0.004594326019287109, 0.012444019317626953, -0.007005810737609863], [-0.003905355930328369, 0.003743290901184082, -0.002028822898864746], [-0.003909558057785034, 0.01520344614982605, -0.009246468544006348], [-0.003146350383758545, 0.02301722764968872, -0.009371042251586914], [-0.00883626937866211, 0.003609389066696167, -0.007367610931396484], [-0.00855642557144165, -0.01799219846725464, -0.008797287940979004], [-0.003921538591384888, 0.0023083090782165527, -0.008284270763397217], [-0.005983442068099976, 0.004302725195884705, -0.006824970245361328], [-0.0035933852195739746, -0.004565820097923279, -0.006938457489013672], [-0.005473315715789795, 0.021163269877433777, -0.013370215892791748], [-0.011629998683929443, 0.028335019946098328, -0.014645099639892578], [-0.009163707494735718, 0.018325448036193848, -0.007725775241851807], [-0.040482521057128906, -0.005275368690490723, -0.01135873794555664], [0.02209329605102539, 0.02089385688304901, -0.020847618579864502], [-0.018242746591567993, 0.0673535168170929, -0.007671475410461426], [0.0030562877655029297, 0.0094490647315979, 0.0032047033309936523], [0.007961660623550415, -0.03280080854892731, 0.006209135055541992], [0.003198087215423584, -0.041450753808021545, 0.010810375213623047], [0.021230101585388184, -0.04196453094482422, 0.012494921684265137], [0.015815764665603638, -0.04061850905418396, 0.008254408836364746], [0.012174129486083984, -0.015779465436935425, 0.0034633278846740723], [0.015102744102478027, -0.0025852322578430176, -0.004670143127441406], [0.0015332698822021484, 0.013389155268669128, -0.016256272792816162], [-0.0019823312759399414, 0.004518523812294006, -0.016299843788146973], [-0.0011554956436157227, 0.035999566316604614, -0.019983112812042236], [-0.01732519268989563, 0.07714840769767761, -0.03716874122619629], [-0.04673311114311218, 0.05190342664718628, -0.04693162441253662], [-0.049254029989242554, 0.037786275148391724, -0.04900902509689331], [-0.10086813569068909, 0.045979976654052734, -0.04621851444244385], [-0.10335332155227661, -0.022990450263023376, -0.023035526275634766], [-0.018749356269836426, -0.07030060887336731, 0.03701305389404297], [0.03922799229621887, -0.041432902216911316, 0.008894860744476318], [0.03868669271469116, 0.006147414445877075, 0.03771364688873291], [0.06625846028327942, -0.05680924654006958, 0.0338398814201355], [0.0911870002746582, -0.1106928288936615, 0.038037776947021484], [0.08063626289367676, -0.09734612703323364, 0.06179487705230713], [0.08298057317733765, -0.07545214891433716, 0.06468850374221802], [0.053309619426727295, -0.021514296531677246, 0.032630980014801025], [-0.009283065795898438, 0.03502759337425232, -0.02869051694869995], [-0.016491234302520752, 0.059666335582733154, -0.023842036724090576], [-0.002290666103363037, 0.028023719787597656, -0.020017623901367188], [-0.003545016050338745, 0.01157236099243164, -0.0026738643646240234], [-0.0028100907802581787, -0.0014871656894683838, 0.0002148151397705078], [0.008964002132415771, -0.005603611469268799, -0.00024837255477905273], [0.002957642078399658, -0.020873308181762695, -0.003454446792602539]], [], [[-0.004323750734329224, -0.019535183906555176, -0.014931142330169678], [-0.01043131947517395, -0.056404173374176025, -0.014900684356689453], [-0.01431378722190857, -0.02303701639175415, -0.012268602848052979], [0.00044724345207214355, 0.03148356080055237, -0.008413612842559814], [0.0010914504528045654, 0.0027578771114349365, -0.0068711042404174805], [0.005653202533721924, -0.02402174472808838, -0.0011462569236755371], [0.005116820335388184, 0.02307790517807007, -6.532669067382812e-05], [0.003985941410064697, 0.02072805166244507, -0.002802610397338867], [0.008457034826278687, 0.0014652609825134277, 0.0032089948654174805], [-0.0018303990364074707, 0.018756121397018433, -0.010933876037597656], [0.001761794090270996, 0.021853148937225342, -0.006229579448699951]], [[-0.0013820528984069824, 0.0033889710903167725, -0.0038366317749023438], [0.0019447505474090576, 0.02422270178794861, -0.006968200206756592], [0.0006094276905059814, 0.018713384866714478, -0.007501065731048584], [-0.0003269314765930176, -0.012451916933059692, -0.010757923126220703], [-0.0018182992935180664, -0.011694848537445068, -0.0036765336990356445], [-0.0010299086570739746, 0.003490924835205078, -0.006171166896820068], [-0.0022093355655670166, -0.008979052305221558, -0.001533806324005127], [0.00826263427734375, -0.013822346925735474, 0.0015975236892700195], [0.0074558258056640625, 0.023776471614837646, -0.010170459747314453], [0.00044223666191101074, 0.042146772146224976, -0.007642388343811035], [-0.00406607985496521, 0.008066654205322266, -0.02027374505996704], [-0.01004818081855774, -0.06155598163604736, -0.019962549209594727], [-5.662441253662109e-06, 0.016163259744644165, -0.03573465347290039], [-0.0006223917007446289, 0.016367614269256592, -8.761882781982422e-06], [0.042051762342453, 0.03232458233833313, 0.06756746768951416]]]\n",
            "\n"
          ],
          "name": "stdout"
        }
      ]
    },
    {
      "cell_type": "markdown",
      "metadata": {
        "id": "1nXBa3GHpJig",
        "colab_type": "text"
      },
      "source": [
        "Now we pad the shorter sequences with [0, 0, 0] to match the length of the longest sequence."
      ]
    },
    {
      "cell_type": "code",
      "metadata": {
        "id": "emIM0-N4pQh3",
        "colab_type": "code",
        "colab": {
          "base_uri": "https://localhost:8080/",
          "height": 89
        },
        "outputId": "39ebb35c-6bdd-46eb-81bd-b4cef0443c3d"
      },
      "source": [
        "print(max(sequences,key=len))\n",
        "max_len = len(max(sequences,key=len))\n",
        "print(max_len)\n",
        "\n",
        "padded_sequences = []\n",
        "for sequence in sequences:\n",
        "  while len(sequence) < max_len:\n",
        "     sequence.append([0, 0, 0])\n",
        "  np.stack(sequence)\n",
        "  padded_sequences.append(sequence)\n",
        "np_sequences = np.stack(padded_sequences)\n",
        "\n",
        "print(np_sequences.shape)"
      ],
      "execution_count": 259,
      "outputs": [
        {
          "output_type": "stream",
          "text": [
            "[[0.07492512464523315, 0.010624483227729797, 0.06074047088623047], [0.023304224014282227, -0.0027136504650115967, -0.0067768096923828125], [-0.025712013244628906, -0.01874162256717682, 0.02060467004776001], [0.04109373688697815, -0.024065181612968445, 0.022174596786499023], [-0.012615591287612915, -0.04327927529811859, -0.03681755065917969], [-0.02747499942779541, -0.03363946080207825, -0.026925265789031982], [0.01081821322441101, -0.035822898149490356, -0.0064498186111450195], [0, 0, 0], [0, 0, 0], [0, 0, 0], [0, 0, 0], [0, 0, 0], [0, 0, 0], [0, 0, 0], [0, 0, 0], [0, 0, 0], [0, 0, 0], [0, 0, 0], [0, 0, 0], [0, 0, 0], [0, 0, 0], [0, 0, 0], [0, 0, 0], [0, 0, 0], [0, 0, 0], [0, 0, 0], [0, 0, 0], [0, 0, 0], [0, 0, 0], [0, 0, 0], [0, 0, 0], [0, 0, 0], [0, 0, 0], [0, 0, 0], [0, 0, 0], [0, 0, 0], [0, 0, 0], [0, 0, 0], [0, 0, 0], [0, 0, 0], [0, 0, 0], [0, 0, 0], [0, 0, 0], [0, 0, 0], [0, 0, 0], [0, 0, 0], [0, 0, 0], [0, 0, 0], [0, 0, 0], [0, 0, 0], [0, 0, 0], [0, 0, 0], [0, 0, 0], [0, 0, 0], [0, 0, 0], [0, 0, 0], [0, 0, 0], [0, 0, 0], [0, 0, 0], [0, 0, 0], [0, 0, 0], [0, 0, 0], [0, 0, 0], [0, 0, 0], [0, 0, 0], [0, 0, 0], [0, 0, 0], [0, 0, 0], [0, 0, 0], [0, 0, 0], [0, 0, 0], [0, 0, 0], [0, 0, 0], [0, 0, 0], [0, 0, 0], [0, 0, 0], [0, 0, 0], [0, 0, 0], [0, 0, 0], [0, 0, 0], [0, 0, 0], [0, 0, 0], [0, 0, 0], [0, 0, 0], [0, 0, 0], [0, 0, 0], [0, 0, 0], [0, 0, 0], [0, 0, 0], [0, 0, 0], [0, 0, 0], [0, 0, 0], [0, 0, 0], [0, 0, 0], [0, 0, 0], [0, 0, 0], [0, 0, 0], [0, 0, 0], [0, 0, 0], [0, 0, 0], [0, 0, 0], [0, 0, 0], [0, 0, 0], [0, 0, 0], [0, 0, 0], [0, 0, 0], [0, 0, 0], [0, 0, 0], [0, 0, 0], [0, 0, 0], [0, 0, 0], [0, 0, 0], [0, 0, 0], [0, 0, 0], [0, 0, 0], [0, 0, 0], [0, 0, 0], [0, 0, 0], [0, 0, 0], [0, 0, 0], [0, 0, 0], [0, 0, 0], [0, 0, 0], [0, 0, 0], [0, 0, 0], [0, 0, 0], [0, 0, 0], [0, 0, 0], [0, 0, 0], [0, 0, 0], [0, 0, 0], [0, 0, 0], [0, 0, 0], [0, 0, 0], [0, 0, 0], [0, 0, 0], [0, 0, 0], [0, 0, 0], [0, 0, 0], [0, 0, 0], [0, 0, 0], [0, 0, 0], [0, 0, 0], [0, 0, 0], [0, 0, 0], [0, 0, 0], [0, 0, 0], [0, 0, 0], [0, 0, 0], [0, 0, 0], [0, 0, 0], [0, 0, 0], [0, 0, 0], [0, 0, 0], [0, 0, 0], [0, 0, 0], [0, 0, 0], [0, 0, 0], [0, 0, 0], [0, 0, 0], [0, 0, 0], [0, 0, 0], [0, 0, 0], [0, 0, 0], [0, 0, 0], [0, 0, 0], [0, 0, 0], [0, 0, 0], [0, 0, 0], [0, 0, 0], [0, 0, 0], [0, 0, 0], [0, 0, 0], [0, 0, 0], [0, 0, 0], [0, 0, 0], [0, 0, 0], [0, 0, 0], [0, 0, 0], [0, 0, 0], [0, 0, 0], [0, 0, 0], [0, 0, 0], [0, 0, 0], [0, 0, 0], [0, 0, 0], [0, 0, 0], [0, 0, 0], [0, 0, 0], [0, 0, 0], [0, 0, 0], [0, 0, 0], [0, 0, 0], [0, 0, 0], [0, 0, 0], [0, 0, 0], [0, 0, 0], [0, 0, 0], [0, 0, 0], [0, 0, 0], [0, 0, 0], [0, 0, 0], [0, 0, 0], [0, 0, 0], [0, 0, 0], [0, 0, 0], [0, 0, 0], [0, 0, 0], [0, 0, 0], [0, 0, 0], [0, 0, 0], [0, 0, 0], [0, 0, 0], [0, 0, 0], [0, 0, 0], [0, 0, 0], [0, 0, 0], [0, 0, 0], [0, 0, 0], [0, 0, 0], [0, 0, 0], [0, 0, 0], [0, 0, 0], [0, 0, 0], [0, 0, 0], [0, 0, 0], [0, 0, 0], [0, 0, 0], [0, 0, 0], [0, 0, 0], [0, 0, 0], [0, 0, 0], [0, 0, 0], [0, 0, 0], [0, 0, 0], [0, 0, 0], [0, 0, 0], [0, 0, 0], [0, 0, 0], [0, 0, 0], [0, 0, 0], [0, 0, 0], [0, 0, 0], [0, 0, 0], [0, 0, 0], [0, 0, 0], [0, 0, 0], [0, 0, 0], [0, 0, 0], [0, 0, 0], [0, 0, 0], [0, 0, 0], [0, 0, 0], [0, 0, 0], [0, 0, 0], [0, 0, 0]]\n",
            "256\n",
            "(10473, 256, 3)\n"
          ],
          "name": "stdout"
        }
      ]
    },
    {
      "cell_type": "markdown",
      "metadata": {
        "id": "6z4Q87besuVt",
        "colab_type": "text"
      },
      "source": [
        "Make onehot our preditions "
      ]
    },
    {
      "cell_type": "code",
      "metadata": {
        "id": "xMP9tEJ0s2jN",
        "colab_type": "code",
        "colab": {}
      },
      "source": [
        "# TODO - Maybe implement this later\n",
        "def make_onehot(indicies, total=250):\n",
        "    \"\"\"\n",
        "    Convert indicies into one-hot vectors by\n",
        "        1. Creating an identity matrix of shape [total, total]\n",
        "        2. Indexing the appropriate columns of that identity matrix\n",
        "    \"\"\"\n",
        "    I = np.eye(total)\n",
        "    return I[indicies]\n",
        "\n",
        "unique_pred = np.unique(predictions)\n",
        "num_unique = np.unique(predictions).shape[0]\n",
        "ascii_predicts = [ord(a) for a in predictions]\n",
        "predicted_keys = make_onehot(predictions, num_unique)\n",
        "print(predicted_keys)"
      ],
      "execution_count": 0,
      "outputs": []
    },
    {
      "cell_type": "markdown",
      "metadata": {
        "id": "ogCwlcxjsLKP",
        "colab_type": "text"
      },
      "source": [
        "Now we make our classifier\n",
        "\n",
        "It should take in a vector thats **N * M * 3**\n",
        "\n",
        "Where N = Number of squences and M = Sequence length"
      ]
    },
    {
      "cell_type": "code",
      "metadata": {
        "id": "JcDOAth0sS1_",
        "colab_type": "code",
        "colab": {
          "base_uri": "https://localhost:8080/",
          "height": 69
        },
        "outputId": "d2a67c94-f905-4b56-8209-1266478786ef"
      },
      "source": [
        "# Our shape is (10473, 256, 3)\n",
        "\n",
        "# So sklearn expects 2d arrays... gotta reshape\n",
        "N, nx, ny = np_sequences.shape\n",
        "new_sequences = np_sequences.reshape((N,nx*ny))\n",
        "\n",
        "# Split into train, validation, and test sets\n",
        "# I will do about 70 train and 30 test\n",
        "train_data, test_data = new_sequences[:7730,:], new_sequences[7730:,:]\n",
        "print (train_data.shape)\n",
        "print (test_data.shape)\n",
        "train_ts, test_ts = predictions[:7730], predictions[7730:]\n",
        "\n",
        "#Create a Gaussian Classifier\n",
        "clf=RandomForestClassifier(n_estimators=200)\n",
        "\n",
        "#Train the model using the training sets y_pred=clf.predict(X_test)\n",
        "clf.fit(train_data,train_ts)\n",
        "\n",
        "test_ys=clf.predict(test_data)\n",
        "\n",
        "#for prediction in test_ys:\n",
        "#  print (prediction, test_ts)\n",
        "\n",
        "\n",
        "# Model Accuracy, how often is the classifier correct?\n",
        "print(\"Accuracy:\",metrics.accuracy_score(test_ts, test_ys))"
      ],
      "execution_count": 261,
      "outputs": [
        {
          "output_type": "stream",
          "text": [
            "(7730, 768)\n",
            "(2743, 768)\n",
            "Accuracy: 0.1866569449507838\n"
          ],
          "name": "stdout"
        }
      ]
    },
    {
      "cell_type": "code",
      "metadata": {
        "id": "oi7x8OwebWQ-",
        "colab_type": "code",
        "colab": {}
      },
      "source": [
        "# Ignore this for not, I might have to come back to it later if the rfc doesnt work\n",
        "\n",
        "from keras.models import Sequential\n",
        "from keras.layers import LSTM, Dense\n",
        "import numpy as np\n",
        "\n",
        "data_dim = 16\n",
        "timesteps = 8\n",
        "num_classes = 10\n",
        "\n",
        "# expected input data shape: (batch_size, timesteps, data_dim)\n",
        "model = Sequential()\n",
        "model.add(LSTM(32, return_sequences=True,\n",
        "               input_shape=(timesteps, data_dim)))  # returns a sequence of vectors of dimension 32\n",
        "model.add(LSTM(32, return_sequences=True))  # returns a sequence of vectors of dimension 32\n",
        "model.add(LSTM(32))  # return a single vector of dimension 32\n",
        "model.add(Dense(10, activation='softmax'))\n",
        "\n",
        "model.compile(loss='categorical_crossentropy',\n",
        "              optimizer='rmsprop',\n",
        "              metrics=['accuracy'])\n",
        "\n",
        "# Generate dummy training data\n",
        "x_train = np.random.random((1000, timesteps, data_dim))\n",
        "y_train = np.random.random((1000, num_classes))\n",
        "\n",
        "# Generate dummy validation data\n",
        "x_val = np.random.random((100, timesteps, data_dim))\n",
        "y_val = np.random.random((100, num_classes))\n",
        "\n",
        "model.fit(x_train, y_train,\n",
        "          batch_size=64, epochs=5,\n",
        "          validation_data=(x_val, y_val))\n",
        "\n",
        "\n"
      ],
      "execution_count": 0,
      "outputs": []
    }
  ]
}