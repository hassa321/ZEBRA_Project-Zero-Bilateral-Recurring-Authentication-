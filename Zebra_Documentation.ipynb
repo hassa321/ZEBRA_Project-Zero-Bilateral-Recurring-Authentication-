{
  "nbformat": 4,
  "nbformat_minor": 0,
  "metadata": {
    "colab": {
      "name": "Zebra Documentation",
      "provenance": [],
      "collapsed_sections": []
    },
    "kernelspec": {
      "name": "python3",
      "display_name": "Python 3"
    }
  },
  "cells": [
    {
      "cell_type": "markdown",
      "metadata": {
        "id": "EntCh3KA-4bP",
        "colab_type": "text"
      },
      "source": [
        "# **Section 1** - Web App\n",
        "----\n",
        "Our implementation of ZEBRA is done on the web using the python web framework Flask. This was so that the implementation wasn't dependant on any specific operating systems and could be accessed by anyone with a smart watch. Also  most members had experience developing in Python and prefered the language. \n",
        "\n"
      ]
    },
    {
      "cell_type": "markdown",
      "metadata": {
        "id": "rjSIzLEHfbW4",
        "colab_type": "text"
      },
      "source": [
        "## User Story: Setting up Web App\n",
        "-----\n",
        "\n",
        "### Motivation:\n",
        "\n",
        "We used Flask as it is an easy to set up and use web framework. There’s no additional database configuration or server set up required. Once flask is installed, running the application is as simple as running the command ```flask run```\n",
        "\n",
        "### Folder Structure\n",
        "\n",
        "Part of setting up a flask application is making sure the folder structure is correct so that app knows how to navigate to which pages. The folder in which the Flask app is stored is named **zebra_web**. Since our git repository holds other folders, such as the watch data and our backend, our folder **Csc490_Zebra_Project** is not just a flask app. \n",
        "\n",
        "Inside the **zebra_web** directory there is the **\\__init__\\.py** file, a **templates** folder and **static** folder. The **\\__init__\\.py** is the main python file. All the html pages are stored within the **templates** folder. The static content such as css and the model are stored in the **static** folder.\n",
        "\n",
        "```\n",
        "Csc490_Zebra_Project\n",
        "|\n",
        "└─── zebra_watch\n",
        "      |\n",
        "      └─── __init__.py\n",
        "           static\n",
        "          |\n",
        "          └─── css\n",
        "          └─── model.joblib\n",
        "           templates\n",
        "          |\n",
        "          └─── index.html\n",
        "               login.html\n",
        "               main.html\n",
        "               ...\n",
        "          \n",
        "```"
      ]
    },
    {
      "cell_type": "markdown",
      "metadata": {
        "id": "B3rRVWK1FLov",
        "colab_type": "text"
      },
      "source": [
        "### Running Web App Locally \n",
        "In order to run a Flask server that is locally served up on your machine please run the following commands in your terminal, making sure you are in the root directory **Csc490_Zebra_Project**. The commands are written for windows. The environment sets variables differently if you’re using a different operating system. After running all of the commands open a browser and go to ```http://localhost:5000/```"
      ]
    },
    {
      "cell_type": "code",
      "metadata": {
        "id": "_nbLfc5RF7Rc",
        "colab_type": "code",
        "colab": {}
      },
      "source": [
        "cd zebra_web\n",
        "\n",
        "pip install passlib\n",
        "pip install flask\n",
        "pip install numpy\n",
        "pip install -U scikit-learn\n",
        "pip install joblib\n",
        "\n",
        "$env:FLASK_APP = \"zebra_web\"\n",
        "$env:FLASK_ENV = \"development\"\n",
        "\n",
        "flask run"
      ],
      "execution_count": 0,
      "outputs": []
    },
    {
      "cell_type": "markdown",
      "metadata": {
        "id": "2gEVsMTBv-QL",
        "colab_type": "text"
      },
      "source": [
        "Running the flask server for the first time will call the setup funciton, that creates and initates all the global variables that we use for storing data:"
      ]
    },
    {
      "cell_type": "code",
      "metadata": {
        "id": "zPU_kNv4v9Sq",
        "colab_type": "code",
        "colab": {}
      },
      "source": [
        "all_keys_pressed = {}\n",
        "all_keys_released = {}\n",
        "watch_data = {}\n",
        "authenticate = {}\n",
        "\n",
        "def setup():\n",
        "    all_keys_pressed[\"data\"] = []\n",
        "    all_keys_released[\"data\"] = []\n",
        "    watch_data[\"data\"] = []\n",
        "    authenticate[\"data\"] = []\n",
        "\n",
        "setup()"
      ],
      "execution_count": 0,
      "outputs": []
    },
    {
      "cell_type": "markdown",
      "metadata": {
        "id": "-l6DX8bqwbut",
        "colab_type": "text"
      },
      "source": [
        "We use dictionaries instead of lists because flask doesn't allow global lists, but does allow global dictionaries. Since we only have once user account, we didn't worry about the global variables being accessed by everyone. "
      ]
    },
    {
      "cell_type": "markdown",
      "metadata": {
        "id": "mwa792xKF8Rz",
        "colab_type": "text"
      },
      "source": [
        "### References\n",
        "1. https://flask.palletsprojects.com/en/1.1.x/tutorial/factory/\n",
        "2. https://flask.palletsprojects.com/en/1.1.x/tutorial/layout/"
      ]
    },
    {
      "cell_type": "markdown",
      "metadata": {
        "id": "RjMFT1mlGCVx",
        "colab_type": "text"
      },
      "source": [
        "## User Story: Login Request Form\n",
        "-----\n",
        "\n",
        "### Motivation:\n",
        "Inorder to show continuous authentication for our app there needs to be a page where users can log in, so that when their input doesn’t match the watch data they will be logged out. \n",
        "\n",
        "### Design Consideration:\n",
        "Since we aren’t worried about creating a login process with multiple users, the login functionality will simply be a web page that accepts a set of default credentials, username and password, and once authenticated the page will redirect users to the main page. There is no backend configuration or lookup that needs to be done. \n",
        "\n",
        "### Implementation:\n",
        "Following a tutorial found online<sup>1,2</sup> create an html file, named `login.html`, that requires users to enter a username and password. Have a button that allows the user to submit their credentials validation request.\n",
        "Clicking the button will submit a form with a POST request to the Flask web app. Below is snippet of the credentials form from the html page.\n"
      ]
    },
    {
      "cell_type": "code",
      "metadata": {
        "id": "aDvphd0oGlC6",
        "colab_type": "code",
        "colab": {}
      },
      "source": [
        "<form class=\"form-signin\" action=\"login\" method=\"POST\" style=\"margin-bottom:50px;\">\n",
        "    <label for=\"inputUserName\" class=\"sr-only\">User Name</label>\n",
        "    <input type=\"text\" name=\"inputUserName\" id=\"inputUserName\" \n",
        "      class=\"form-control\" placeholder=\"User name\" required>\n",
        "\n",
        "    <label for=\"inputPassword\" class=\"sr-only\">Password</label>\n",
        "    <input type=\"password\" name=\"inputPassword\" id=\"inputPassword\" \n",
        "      class=\"form-control\" placeholder=\"Password\" required>\n",
        "\n",
        "    <div class=\"text-center\">\n",
        "        <button id=\"btnLogin\" class=\"btn btn-lg btn-primary\" type=\"submit\">\n",
        "            Login\n",
        "        </button>\n",
        "    </div>\n",
        "</form>"
      ],
      "execution_count": 0,
      "outputs": []
    },
    {
      "cell_type": "markdown",
      "metadata": {
        "id": "s9twHboxGkVL",
        "colab_type": "text"
      },
      "source": [
        "The URL endpoint, when running locally, is ```http://localhost:5000/login```. This route is set up thanks to Flask, in the **\\__init__\\.py**, specifically this function. When the user accesses the page, which would be considered a `GET` request, the login page is displayed using the jinja `render_template()` method."
      ]
    },
    {
      "cell_type": "code",
      "metadata": {
        "id": "3-l3yaGuGwH8",
        "colab_type": "code",
        "colab": {}
      },
      "source": [
        "@app.route('/login', methods=['GET', 'POST'])\n",
        "def login():\n",
        "    error = None\n",
        "    if request.method == 'POST':\n",
        "        if sha256_crypt.verify(request.form['inputUserName'], userandpassword) and \\\n",
        "            sha256_crypt.verify(request.form['inputPassword'], userandpassword):\n",
        "            return redirect(url_for('main'))\n",
        "        else:\n",
        "            flash('You entered the wrong credentials. Please try again', 'danger')\n",
        "            error = 'Invalid Credentials. Please try again.'\n",
        "    return render_template('login.html', error=error)\n"
      ],
      "execution_count": 0,
      "outputs": []
    },
    {
      "cell_type": "markdown",
      "metadata": {
        "id": "ojXXsB7QP8HF",
        "colab_type": "text"
      },
      "source": [
        "### Challenges\n",
        "1. Understanding how POST request works, specifically within Flask, and how they can be utilized within forms\n",
        "2. How to have a Flask function that displays a webpage to verify a POST request\n",
        "\n",
        "### References\n",
        "1. https://realpython.com/introduction-to-flask-part-2-creating-a-login-page/\n",
        "2. https://code.tutsplus.com/tutorials/creating-a-web-app-from-scratch-using-python-flask-and-mysql--cms-22972\n"
      ]
    },
    {
      "cell_type": "markdown",
      "metadata": {
        "id": "RbxkbcyVQDPL",
        "colab_type": "text"
      },
      "source": [
        "## User Story: Verify Login\n",
        "-----\n",
        "\n",
        "### Motivation:\n",
        "There needs to be a process that once the user sends a request to login with a set of credentials they are verified and authenticated. \n",
        "\n",
        "### Design Consideration:\n",
        "* There’s only 1 default credential, since we aren't worried about registering new users\n",
        "* The credential can’t be stored in plain text, they need to be securely encrypted. \n",
        "\n",
        "### Implementation:\n",
        "When the user submits their credentials the `POST` request is fired and the code inside the if statement is executed. If the username and password align are correct they will then be redirected to the **main.html** page with the ```redirect(...)``` function. "
      ]
    },
    {
      "cell_type": "code",
      "metadata": {
        "id": "Q5PrPGKjQGr1",
        "colab_type": "code",
        "colab": {}
      },
      "source": [
        "if request.method == 'POST':\n",
        "        if sha256_crypt.verify(request.form['inputUserName'], userandpassword) and \\\n",
        "            sha256_crypt.verify(request.form['inputPassword'], userandpassword):\n",
        "            return redirect(url_for('main'))"
      ],
      "execution_count": 0,
      "outputs": []
    },
    {
      "cell_type": "markdown",
      "metadata": {
        "id": "yZxIT_58QGC3",
        "colab_type": "text"
      },
      "source": [
        "We encrypted the credentials to use passlib<sup>1</sup>, a library that hashes content using **SHA256** algorithm. After encryption that ```sha256_crypt.verify(...)``` is what verifies the encrpyted password."
      ]
    },
    {
      "cell_type": "code",
      "metadata": {
        "id": "sZb31r89QLXR",
        "colab_type": "code",
        "colab": {}
      },
      "source": [
        "from passlib.hash import sha256_crypt\n",
        "userandpassword = sha256_crypt.encrypt(\"admin\")"
      ],
      "execution_count": 0,
      "outputs": []
    },
    {
      "cell_type": "markdown",
      "metadata": {
        "id": "0q6Trbp-QPH6",
        "colab_type": "text"
      },
      "source": [
        "### References\n",
        "1. https://pythonprogramming.net/password-hashing-flask-tutorial/"
      ]
    },
    {
      "cell_type": "markdown",
      "metadata": {
        "id": "diPSme7fQSNj",
        "colab_type": "text"
      },
      "source": [
        "## User Story: Login Error Flashing\n",
        "-----\n",
        "\n",
        "### Motivation:\n",
        "If the user were to input the wrong credentials there should be a warning message that flashes letting users know they entered the wrong credential. \n",
        "\n",
        "### Design Consideration:\n",
        "Display the text in some say that is pops and stands out. Inorder to achieve this look will be using BootStrap's alert styling.\n",
        "\n",
        "### Implementation:\n",
        "If the user enters the wrong credentials, a flash message is set in the ```login()``` function, in **\\__init__\\.py**."
      ]
    },
    {
      "cell_type": "code",
      "metadata": {
        "id": "QZPJXEDIQUer",
        "colab_type": "code",
        "colab": {}
      },
      "source": [
        "@app.route('/login', methods=['GET', 'POST'])\n",
        "def login():\n",
        "    ...\n",
        "    if request.method == 'POST':\n",
        "        ...\n",
        "        else:\n",
        "            flash('You entered the wrong credentials. Please try again', 'danger')\n",
        "            error = 'Invalid Credentials. Please try again.'\n",
        "    return render_template('login.html', error=error)"
      ],
      "execution_count": 0,
      "outputs": []
    },
    {
      "cell_type": "markdown",
      "metadata": {
        "id": "VdzeT7tzQWeg",
        "colab_type": "text"
      },
      "source": [
        "\n",
        "When the page re-renders, **login.html**, there’s a section of code that will appear only when because the flash method was set earlier<sup>1</sup>. Below is the snippet of code that displays the error message about entering the wrong credentials within a red rectangle."
      ]
    },
    {
      "cell_type": "code",
      "metadata": {
        "id": "_l1inIqQQY-D",
        "colab_type": "code",
        "colab": {}
      },
      "source": [
        "<div>\n",
        "    <div>\n",
        "        {% with messages = get_flashed_messages(with_categories=true) %}\n",
        "        {% if messages %}\n",
        "        {% for category, message in messages %}\n",
        "        <div class=\"alert alert-{{ category }} alert-dismissible fade in\" role=\"alert\">\n",
        "            <span>{{ message }}</span>\n",
        "        </div>\n",
        "        {% endfor %}\n",
        "        {% endif %}\n",
        "        {% endwith %}\n",
        "      </div>\n",
        "  </div>"
      ],
      "execution_count": 0,
      "outputs": []
    },
    {
      "cell_type": "markdown",
      "metadata": {
        "id": "XWp0NothQacJ",
        "colab_type": "text"
      },
      "source": [
        "### Challenges\n",
        "1. Understanding how flash works within Flask, since flash is specifically designed for displaying error messages or giving feedback to users after an action has been done.\n"
      ]
    },
    {
      "cell_type": "markdown",
      "metadata": {
        "id": "DvNtlPbrQcsB",
        "colab_type": "text"
      },
      "source": [
        "### References\n",
        "1. https://flask.palletsprojects.com/en/1.1.x/patterns/flashing/"
      ]
    },
    {
      "cell_type": "markdown",
      "metadata": {
        "id": "vCN27VEGQiZ9",
        "colab_type": "text"
      },
      "source": [
        "## User Story: Main Page\n",
        "-----\n",
        "\n",
        "### Motivation:\n",
        "Once the user is logged in they need a page that they will be redirected to, which is the main page. The main page also serves another purpose and that it displays information that we need at the moment. In the end the main page will display information about keyboard input. \n",
        "\n",
        "### Design Consideration:\n",
        "Since we need a way to keep track of keys that the user inputs there needs to be something that allows the user to type on the webpage, such as a text box \n",
        "\n",
        "The keyboard input should display information such as the timestamp of the key, which key was pressed, along with the specific action (key press, key up, etc.)\n",
        "\n",
        "### Implementation:\n",
        "The endpoint for the function is `http://localhost:5000/main`. Like the login, the endpoint is mapped in the **\\__init__\\.py**, to a function named `main()`. All that is being done by the function is the rendering of that html page. \n"
      ]
    },
    {
      "cell_type": "code",
      "metadata": {
        "id": "G_i0xphxQpyZ",
        "colab_type": "code",
        "colab": {}
      },
      "source": [
        "@app.route('/main')\n",
        "def main():\n",
        "    return render_template('main.html')"
      ],
      "execution_count": 0,
      "outputs": []
    },
    {
      "cell_type": "markdown",
      "metadata": {
        "id": "lDKIEpZwQsW-",
        "colab_type": "text"
      },
      "source": [
        "The html page, **main.html** has various parts to it. First, the main page contains a div that has the text area that the user can type in and we can record the data. "
      ]
    },
    {
      "cell_type": "code",
      "metadata": {
        "id": "i9lhxQD7QufT",
        "colab_type": "code",
        "colab": {}
      },
      "source": [
        "<div>\n",
        "    <h4 id=\"message\" stye=“margin-top: 200px;”> Please type something...</h4>\n",
        "    <textarea id=\"textarea\" rows=\"4\" cols=\"100\"> </textarea>\n",
        "</div>"
      ],
      "execution_count": 0,
      "outputs": []
    },
    {
      "cell_type": "markdown",
      "metadata": {
        "id": "QS_99E0DQw1V",
        "colab_type": "text"
      },
      "source": [
        "Another chunk of the code is regarding the code regarding the keylogging aspect, which will be explained in other user stories. The code regarding this is in the `textarea.addEventListener(...)`."
      ]
    },
    {
      "cell_type": "markdown",
      "metadata": {
        "id": "-pimM6N2Q1_J",
        "colab_type": "text"
      },
      "source": [
        "There is another set of divs under the event listeners that are empty at the moment. These divs are placeholders to display text regarding keyboard input; the html within the divs gets updated whenever there’s any keyboard input."
      ]
    },
    {
      "cell_type": "code",
      "metadata": {
        "id": "wLVL2WiVQ3z0",
        "colab_type": "code",
        "colab": {}
      },
      "source": [
        "<div class=\"container\">\n",
        "    <div class=\"row\">\n",
        "        <div class=\"col-md-2\">\n",
        "            <p> Timestamp </p>\n",
        "        </div>\n",
        "        <div class=\"col-md-2\">\n",
        "            <p> Key action </p>\n",
        "        </div>\n",
        "        <div class=\"col-md-2\">\n",
        "            <p> Key </p>\n",
        "        </div>\n",
        "    </div>\n",
        "    <div class=\"row\">\n",
        "        <div class=\"col-md-2\">\n",
        "            <p id=\"timestamp\"> </p>\n",
        "        </div>\n",
        "        <div class=\"col-md-2\">\n",
        "            <p id=\"keyaction\"> </p>\n",
        "        </div>\n",
        "        <div class=\"col-md-2\">\n",
        "            <p id=\"key\"> </p>\n",
        "        </div>\n",
        "    </div>\n",
        "</div>"
      ],
      "execution_count": 0,
      "outputs": []
    },
    {
      "cell_type": "markdown",
      "metadata": {
        "id": "riFkF-GJQ7V2",
        "colab_type": "text"
      },
      "source": [
        "There’s a snippet of code inside that event listener that updates the html text. It grabs the element Id and changes the inner html. It prepends so that the newest information shows on the top of the screen. Due to spacing and formatting, prepend wasn't working so neatly for `key` and so needed to manually prepend as shown below.\n"
      ]
    },
    {
      "cell_type": "code",
      "metadata": {
        "id": "n1vvgJTgQ-9O",
        "colab_type": "code",
        "colab": {}
      },
      "source": [
        "document.getElementById('timestamp').prepend(timestamp + \"\\n\");\n",
        "document.getElementById('keyaction').prepend(\"keypress\\n\");\n",
        "document.getElementById('key').innerHTML = event.key + \"<br>\" + document.getElementById('key').innerHTML;"
      ],
      "execution_count": 0,
      "outputs": []
    },
    {
      "cell_type": "markdown",
      "metadata": {
        "id": "-t4Dy6ApRMId",
        "colab_type": "text"
      },
      "source": [
        "## User Story: Log Out - Inactivity \n",
        "-----\n",
        "\n",
        "### Motivation:\n",
        "When the user hasn’t interacted with the system for a set amount of time, i.e. 1 minute, log them off of the system. As part of an authentication process, if the user hasn’t been interacting with the system for some time it’s an indicator that the user isn’t using the system anymore, they have stepped away or are using a different app, but for security purposes they should be logged off.  \n",
        "\n",
        "### Design *Consideration*:\n",
        "When the user is logged off they should be redirected to a page that notifies them that they’ve been logged out. From there the user can then login using the nav bar login button. \n",
        "\n",
        "### Implementation:\n",
        "The user will be log out when they’re on the main page therefore the event needs to be fired from the **main.html** page. Below is a script inside **main.html** that sets an event to click the logout button 60 seconds after the last keypress or mouse movement<sup>1</sup>. Whenever there’s a key press or mouse movement the event is reset and so the logout functionality will only execute after 60 of the last event. \n"
      ]
    },
    {
      "cell_type": "code",
      "metadata": {
        "id": "vFhCsXfQRPCk",
        "colab_type": "code",
        "colab": {}
      },
      "source": [
        "<script>\n",
        "    let timeout = null;\n",
        "    window.addEventListener('keyup', function (e) {\n",
        "        clearTimeout(timeout);\n",
        "        timeout = setTimeout(function () {\n",
        "            document.getElementById(\"logout\").click();\n",
        "        }, 60000);\n",
        "    });\n",
        "    window.addEventListener('mousemove', function (e) {\n",
        "        clearTimeout(timeout);\n",
        "        timeout = setTimeout(function () {\n",
        "            document.getElementById(\"logout\").click();\n",
        "        }, 60000);\n",
        "    });\n",
        "</script>"
      ],
      "execution_count": 0,
      "outputs": []
    },
    {
      "cell_type": "markdown",
      "metadata": {
        "id": "5PwHTokhROSL",
        "colab_type": "text"
      },
      "source": [
        "After the logout button is clicked, it redirects the user to a logout page, **logout.html** that simply has text saying `You've been logged out` and a button that allows the user to log back in. "
      ]
    },
    {
      "cell_type": "code",
      "metadata": {
        "id": "oyisRAUbRVfu",
        "colab_type": "code",
        "colab": {}
      },
      "source": [
        "<div class=\"jumbotron\">\n",
        "    <h1 style=\"text-align: center;\">You've been logged out</h1>\n",
        "    <div class=\"text-center\">\n",
        "        <a class=\"btn btn-lg btn-primary\" href=\"login\" role=\"button\">Login</a>\n",
        "    </div>\n",
        "</div>"
      ],
      "execution_count": 0,
      "outputs": []
    },
    {
      "cell_type": "markdown",
      "metadata": {
        "id": "HTzPsoV5Raae",
        "colab_type": "text"
      },
      "source": [
        "The logout page is rendered by the logout function in the **\\__init__\\.py** function. The endpoint of this URL is `http://localhost:5000/logout`. \n",
        "\n",
        "When the user first lands on the page, only the last line is executed which renders the **logout.html** page. The if statement regarding the POST method executes when the user hits the login button on the page. The login button triggers a POST request. Once received it will redirect users to the login page, **login.html**. "
      ]
    },
    {
      "cell_type": "code",
      "metadata": {
        "id": "ir5wCUA6Rg2W",
        "colab_type": "code",
        "colab": {}
      },
      "source": [
        "@app.route('/logout', methods=['GET', 'POST'])\n",
        "def logout():\n",
        "    if request.method == 'POST':\n",
        "        return redirect(url_for('login'))\n",
        "\n",
        "    return render_template('logout.html')"
      ],
      "execution_count": 0,
      "outputs": []
    },
    {
      "cell_type": "markdown",
      "metadata": {
        "id": "M1WmQPUZRjLg",
        "colab_type": "text"
      },
      "source": [
        "### Challenges\n",
        "- Figuring out how to create a function that would timeout or trigger some event after some time. Luckily found a simple tutorial online. \n",
        "- How to trigger or render another webpage\n",
        "  - Work around was simulating a click on the logout button\n",
        "- How to communicate to a function that a button was pressed and do some action\n",
        "  - Work around was to use a POST request to accept an incoming button request\n",
        "\n",
        "### References\n",
        "1. https://schier.co/blog/wait-for-user-to-stop-typing-using-javascript"
      ]
    },
    {
      "cell_type": "markdown",
      "metadata": {
        "id": "fnZ_rPvvRoSx",
        "colab_type": "text"
      },
      "source": [
        "\n",
        "## User Story: Log Out - Different user \n",
        "-----\n",
        "\n",
        "### Motivation:\n",
        "Using the predictions from our model (values of which are retrieved from other User Stories). Create some sort of function that when keystroke movements don't align with the predicts then log off the user. \n",
        "\n",
        "### Design *Consideration*:\n",
        "Need to take the ```prediction()``` function and it’s value into consideration when designing this functionality. Need to figure out a threshold for how many false positives can be allowed. If x number of predictions are positive, leave the user logged in otherwise log them out. \n",
        "\n",
        "### Implementation:\n",
        "Unfortunately we were not able to implement this due to predictions being consistently accurate. The user would have been logged off the moment they were logged in.\n"
      ]
    },
    {
      "cell_type": "markdown",
      "metadata": {
        "id": "aMvqK9NoR2i1",
        "colab_type": "text"
      },
      "source": [
        "## User Story: Keyboard Data Collection (User Side)\n",
        "-----\n",
        "\n",
        "### Motivation:\n",
        "The keyboard data is the primary information needed to be paired with the smart watch information. We need to collect keystroke data so it can be used with our model. The data needs to be collected as the user is typing, and then sent to the Flask server, where the information can be further processed and formatted.\n",
        "\n",
        "### Design Consideration:\n",
        "Capture keyboard data using a text box which was set up in _User Story: Home Page_, in the **main.html** page. An event listener needs to be added to the text box so that the key event can be recorded. \n",
        "\n",
        "The formatting of the keyboard data will be:\n"
      ]
    },
    {
      "cell_type": "code",
      "metadata": {
        "id": "03w0mYGwSBJj",
        "colab_type": "code",
        "colab": {}
      },
      "source": [
        "{'timestamp': timestamp, 'action': 'keypress' or 'keyup', 'key': event.key};"
      ],
      "execution_count": 0,
      "outputs": []
    },
    {
      "cell_type": "markdown",
      "metadata": {
        "id": "Lg_m0ArdSDYd",
        "colab_type": "text"
      },
      "source": [
        "- **timestamp** is the Unix time when the keyEvent occurred\n",
        "- **action** is either \"Keyup\" or \"Keydown\"\n",
        "- **key** is the actual letter, special character or number pressed. \n",
        "\n",
        "_Note:_ The **action** is used in another user story to help separate these keyEvents. After formatting and logging information to the web page(which is taken care of by the _User Story: Home Page_) send the keyStrokes in a POST. The data will then be taken care of in the Flask server and further refined \n",
        "\n",
        "### Implementation:\n",
        "We implement key listeners in javascript for `keyup` and `keypressed` actions, which were added to a textbox where we have the user inputting text. \n",
        "\n",
        "Here is an example for the `keyup` event listener:\n"
      ]
    },
    {
      "cell_type": "code",
      "metadata": {
        "id": "alDWlvslSK10",
        "colab_type": "code",
        "colab": {}
      },
      "source": [
        "textarea.addEventListener('keyup', function (event) {\n",
        "\n",
        "    var timestamp = Date.now();\n",
        "    keystrokes = {'timestamp': timestamp,'action':'keyup','key':event.key};\n",
        "    \n",
        "    # ..."
      ],
      "execution_count": 0,
      "outputs": []
    },
    {
      "cell_type": "markdown",
      "metadata": {
        "id": "R7cQ_BiASN0a",
        "colab_type": "text"
      },
      "source": [
        "In the event listener we have an ajax call that makes the POST request with the keyboard input data. The POST request is received by the flask server, in **\\__init__\\.py** under the `get_keystrokes` function. \n"
      ]
    },
    {
      "cell_type": "code",
      "metadata": {
        "id": "lh7uf1d1T1Sp",
        "colab_type": "code",
        "colab": {}
      },
      "source": [
        "$.ajax({\n",
        "        type: \"POST\",\n",
        "        url: \"/keyboard\",\n",
        "        contentType: \"application/json;charset=UTF-8\",\n",
        "        dataType: \"json\",\n",
        "        data: JsonKeys,\n",
        "    }).done(function (data) {\n",
        "        console.log(data);\n",
        "        console.log(\"successed, keyup\");\n",
        "        //success, fires when the ajax call is complete\n",
        "    }).fail(function (err) {\n",
        "        console.log(err);\n",
        "        console.log(\"failed keyup\");\n",
        "    });"
      ],
      "execution_count": 0,
      "outputs": []
    },
    {
      "cell_type": "markdown",
      "metadata": {
        "id": "cCFumVO_-Efn",
        "colab_type": "text"
      },
      "source": [
        "## User Story: Keyboard Data Collection (Server Side)\n",
        "-----\n",
        "\n",
        "### Motivation:\n",
        "\n",
        "Once we received our keyboard data on the flask server, we want to format it in a way that will make it easier to predict on. \n",
        "\n",
        "### Design Considerations: \n",
        "\n",
        "Since our neural network is predicting sequences that start from the first `keyup` event and end with the next `keypress` event we need to seperate the incoming data by key events. We also need to assign each key a group based on how close they are to each other, in the same way that they were grouped when we trained the neural net. \n",
        "\n",
        "### Implementation:\n",
        "When we have an incoming POST request at the /keyboard route the `get_keystrokes` function extracts the key event type, the key that the event was triggered on, and the time when the event was triggered (in unix time).\n"
      ]
    },
    {
      "cell_type": "code",
      "metadata": {
        "id": "KsBFyczkUP_9",
        "colab_type": "code",
        "colab": {}
      },
      "source": [
        "if request.method == 'POST':\n",
        "    data = request.get_json()\n",
        "    if (data):\n",
        "        event = data[\"action\"]\n",
        "        key = data[\"key\"].lower()\n",
        "        timestamp = int(data[\"timestamp\"])\n",
        "        seperate_key_events(timestamp, event, key)"
      ],
      "execution_count": 0,
      "outputs": []
    },
    {
      "cell_type": "markdown",
      "metadata": {
        "id": "kKCl4QtxUQVK",
        "colab_type": "text"
      },
      "source": [
        "In that function the `seperate_key_events` function gets called with the parameters (timestamp, event, key). \n",
        "\n",
        "In `seperate_key_events` we seperate the `keypress` events and `keyup` events into two seperate lists. This is so that the same keys line up at the same index. \n",
        "\n"
      ]
    },
    {
      "cell_type": "code",
      "metadata": {
        "id": "205ONEWa-3uP",
        "colab_type": "code",
        "colab": {}
      },
      "source": [
        "if event == \"keypress\": \n",
        "  all_keys_pressed[\"data\"].append([timestamp, key)])\n",
        " elif event == \"keyup\": \n",
        "   all_keys_released[\"data\"].append([timestamp, key)])\n",
        "\n",
        "# After a few keys have been pressed, the lists will look something like this:\n",
        "# >>> all_keys_pressed[\"data\"]\n",
        "# [[1585799543415, \"I\"], [1585799543724, \" \"], [1585799544082, \"a\"]]\n",
        "# >>> all_keys_released[\"data\"]\n",
        "# [[1585799543467, \"I\"], [1585799543771, \" \"], [1585799544138, \"a\"]]"
      ],
      "execution_count": 0,
      "outputs": []
    },
    {
      "cell_type": "markdown",
      "metadata": {
        "id": "NKBWgtZ6IlxX",
        "colab_type": "text"
      },
      "source": [
        "We filter out keys that do not have `keypressed` events by addings the condition `and key not in special_keys[\"keys\"]` in our if statements."
      ]
    },
    {
      "cell_type": "code",
      "metadata": {
        "id": "q-3eDFxLKvSO",
        "colab_type": "code",
        "colab": {}
      },
      "source": [
        "special_keys = {\"keys\": [\"shift\", \"control\", \"alt\", \"meta\", \"backspace\", \"arrowleft\", \"arrowright\", \"arrowup\", \"arrowdown\"]}\n",
        "\n",
        "if event == \"keypress\" and key not in special_keys[\"keys\"]:\n",
        "    # ...\n",
        "if event == \"keyup\" and key not in special_keys[\"keys\"]:\n",
        "    # ..."
      ],
      "execution_count": 0,
      "outputs": []
    },
    {
      "cell_type": "markdown",
      "metadata": {
        "id": "itP-gKKwLUhB",
        "colab_type": "text"
      },
      "source": [
        "Finally we need to group our keys based on locations. The way we mapped each keys was as follows:"
      ]
    },
    {
      "cell_type": "code",
      "metadata": {
        "id": "_GHrXHIEMImg",
        "colab_type": "code",
        "colab": {}
      },
      "source": [
        "keys_mapped = {'1': 1, '2': 1, '3': 1, '!': 1, '@': 1, '#': 1, '4': 2, '5': 2,\n",
        "               '6': 2, '$': 2, '%': 2, '^': 2, '7': 3, '8': 3, '&': 3, '*': 3,\n",
        "               '9': 4, '0': 4, '(': 4, ')': 4, '-': 5, '_': 5, '=': 5, '+': 5,\n",
        "               'backspace': 5, 'q': 6, 'tab': 6, 'w': 7, 'e': 7, 'r': 7, 't': 8,\n",
        "               'y': 8, 'u': 9, 'i': 9, 'o': 9, 'p': 9, '[': 10, ']': 10,\n",
        "               '\\\\': 10, '{': 10, '}': 10, '|': 10, 'a': 11, 's': 11, 'd': 11,\n",
        "               'f': 12, 'g': 12, 'h': 12, 'j': 13, 'k': 13, 'l': 13, ';': 14,\n",
        "               \"'\": 14, '\"': 14, ':': 14, 'enter': 14, 'z': 15, 'x': 15, 'c': 15,\n",
        "               ' ': 16, 'v': 16, 'b': 16, 'n': 16, 'm': 16, ',': 17, '.': 17, '/': 17,\n",
        "               '<': 17, '>': 17, '?': 17, 'arrowleft': 18, 'arrowright': 18,\n",
        "               'arrowup': 18, 'arrowdown': 18} "
      ],
      "execution_count": 0,
      "outputs": []
    },
    {
      "cell_type": "markdown",
      "metadata": {
        "id": "1F0IKAodUlJc",
        "colab_type": "text"
      },
      "source": [
        "When storing our key presses in the `all_keys_pressed` and `all_keys_released` dictionaries, we store them based on the numerical number that they get mapped to. If the key isn't in the list, it gets mapped to \"other\" or just 19. \n",
        "\n",
        "Here is the code with that addition for key pressed event:"
      ]
    },
    {
      "cell_type": "code",
      "metadata": {
        "id": "0uPOjqpbU--0",
        "colab_type": "code",
        "colab": {}
      },
      "source": [
        "all_keys_pressed[\"data\"].append([timestamp, keys_mapped.get(key, 19)])"
      ],
      "execution_count": 0,
      "outputs": []
    },
    {
      "cell_type": "markdown",
      "metadata": {
        "id": "bCeU5tRYVIOH",
        "colab_type": "text"
      },
      "source": [
        "## User Story: Get and Mapping Sequences\n",
        "-----\n",
        "\n",
        "### Motivation:\n",
        "\n",
        "When we have collected enough typing data and watch data for a batch, we would like to begin prepping our data to be used for predictions. We want to format the watch data in a batch of sequences from when a key is released to when the next key is pressed.\n",
        "\n",
        "### Design Considerations: \n",
        "\n",
        "* We need to choose a batch size that is small enough to be able to quickly start predicting, but also big enough to compensate for the watch data delay. \n",
        "\n",
        "We decided to make our model predict on batches of 10. For that we need to wait for 11 seperate key up events, and 11 key pressed events, because we remove the first key pressed event, last key up event, and pair the others to form a sequence.\n",
        "\n",
        "### Implementation:\n",
        "\n",
        "In our `seperate_key_events` function we add a condition that will call the `get_sequences()` function once we have 11 seperate events:"
      ]
    },
    {
      "cell_type": "code",
      "metadata": {
        "id": "Y-nRRrGvXI_r",
        "colab_type": "code",
        "colab": {}
      },
      "source": [
        "if len(all_keys_pressed[\"data\"]) > 11 and len(all_keys_released[\"data\"]) > 11:\n",
        "        ret = _get_sequences()"
      ],
      "execution_count": 0,
      "outputs": []
    },
    {
      "cell_type": "markdown",
      "metadata": {
        "id": "V0kRdIaNXu9p",
        "colab_type": "text"
      },
      "source": [
        "The `get_sequences` function will only start getting sequences if there is enough watch data, and it does that by checking the time of the last key event that we will be using to batch:"
      ]
    },
    {
      "cell_type": "code",
      "metadata": {
        "id": "zmizXKSbX-6u",
        "colab_type": "code",
        "colab": {}
      },
      "source": [
        "def _get_sequences():\n",
        "    # Make sure that the watch data exists\n",
        "    if watch_data[\"data\"] == []:\n",
        "        return None\n",
        "\n",
        "    pressed = all_keys_pressed[\"data\"][:11]\n",
        "    released = all_keys_released[\"data\"][:11]\n",
        "\n",
        "    # Make sure the last item in the watch data is >= time last key is released\n",
        "    time_released = released[-1][0]\n",
        "    time_watch = watch_data[\"data\"][-1][0]\n",
        "\n",
        "    if time_watch < time_released:\n",
        "        return None"
      ],
      "execution_count": 0,
      "outputs": []
    },
    {
      "cell_type": "markdown",
      "metadata": {
        "id": "yJmiwjPLYTnE",
        "colab_type": "text"
      },
      "source": [
        "To create a sequence in our batch, we remove the first and last actions to create the offset:"
      ]
    },
    {
      "cell_type": "code",
      "metadata": {
        "id": "KbXey-YlYkbF",
        "colab_type": "code",
        "colab": {}
      },
      "source": [
        " # Remove the last and first\n",
        "    pressed = pressed[1:]\n",
        "    released = released[:-1]"
      ],
      "execution_count": 0,
      "outputs": []
    },
    {
      "cell_type": "markdown",
      "metadata": {
        "id": "jTqVPykDYth-",
        "colab_type": "text"
      },
      "source": [
        "If the `get sequences` function returns a sequence of keys, it is time to call our map sequences function to map each keyup-keypress pair into a sequence of movements using the watch data:"
      ]
    },
    {
      "cell_type": "code",
      "metadata": {
        "id": "auEe9CixZDj_",
        "colab_type": "code",
        "colab": {}
      },
      "source": [
        "# In seperate_key_events: \n",
        "ret = _get_sequences()\n",
        "\n",
        "if ret is not None:\n",
        "\n",
        "    # We want to remove the batch from the currently stored because we have \n",
        "    # (or are about to) use it\n",
        "    all_keys_pressed[\"data\"] = all_keys_pressed[\"data\"][11:]\n",
        "    all_keys_released[\"data\"] = all_keys_released[\"data\"][11:]\n",
        "\n",
        "    pressed, released = ret[0], ret[1]\n",
        "    sequences, predictions = map_sequences(pressed, released)"
      ],
      "execution_count": 0,
      "outputs": []
    },
    {
      "cell_type": "markdown",
      "metadata": {
        "id": "qK-gzv91ZsbY",
        "colab_type": "text"
      },
      "source": [
        "In `map_sequences` we go through every item from the 10 pairs of key events, and locating the acceleration data that happens in between each start and end time frame. We then store these sequences in a list, and the keys they correspond to in a different list."
      ]
    },
    {
      "cell_type": "code",
      "metadata": {
        "id": "j5ok0enXas1m",
        "colab_type": "code",
        "colab": {}
      },
      "source": [
        " for i in range(len(keys_pressed)):\n",
        "        start = int(keys_released[i][0])\n",
        "        end = int(keys_pressed[i][0])\n",
        "        key = keys_pressed[i][1]\n",
        "\n",
        "        sequence = []\n",
        "\n",
        "        while len(watch_data[\"data\"]) != 0:\n",
        "            # We want to remove the line so we dont have to iterate trough everything again\n",
        "            line = watch_data[\"data\"].pop(0)\n",
        "            if line == [''] or len(line) < 4:\n",
        "                continue\n",
        "\n",
        "            time, acc_x, acc_y, acc_z = line[0], line[1], line[2], line[3]\n",
        "\n",
        "            current_time = int(time)\n",
        "\n",
        "            # Happens before the start - keep searching\n",
        "            if (current_time < start):\n",
        "                continue\n",
        "\n",
        "            # Happens after the end - we are done with our sequence\n",
        "            if (current_time >= end):\n",
        "                break\n",
        "\n",
        "            sequence.append([float(acc_x), float(acc_y), float(acc_z)])\n",
        "        sequences.append(sequence)\n",
        "        predictions.append(key)\n",
        "\n",
        "return (sequences, predictions)"
      ],
      "execution_count": 0,
      "outputs": []
    },
    {
      "cell_type": "markdown",
      "metadata": {
        "id": "48715sNjbXTZ",
        "colab_type": "text"
      },
      "source": [
        "## User Story: Set up prediction data\n",
        "-----\n",
        "\n",
        "### Motivation:\n",
        "\n",
        "The Random Forest Classifier by sklearn uses numpy arrays, so we need to reformat all our lists to be numpy arrays. We also need to make every sequence the same length, otherwise the model will give errors. Since we trained the model on sequences of length 270, we need to pad the shorter sequnces, and cut the longer ones. \n",
        "\n",
        "### Implementation:\n",
        "After `map_squences` returns in the `seperate_key_events` function, the `setup_predict` function is called. The function will first pad the predictions by calling `padding(sequences)`, which appends [0, 0, 0] to the sequence, for every sequence in sequences, until the sequence is of size 270. If its bigger than 270, then ignore everything after. \n",
        "\n",
        "Finally we convert the batch of sequences into a numpy array of shape `10 x 270 x 3` using `np.stack()`:\n"
      ]
    },
    {
      "cell_type": "code",
      "metadata": {
        "id": "p-fIF79yc9As",
        "colab_type": "code",
        "colab": {}
      },
      "source": [
        "def padding(sequences):\n",
        "    max_len = len(max(sequences,key=len))\n",
        "\n",
        "    # If the sequence is greater than 270, just remove it\n",
        "    while max_len > 270:\n",
        "        sequences.remove(max_seq)\n",
        "        max_len = len(max(sequences,key=len))\n",
        "\n",
        "    max_len = 270\n",
        "\n",
        "    padded_sequences = []\n",
        "    for sequence in sequences:\n",
        "        while (len(sequence) < max_len):\n",
        "            sequence.append([0, 0, 0])\n",
        "        np.stack(sequence)\n",
        "        padded_sequences.append(sequence)\n",
        "\n",
        "    # Stack the list of sequences\n",
        "    np_sequences = np.stack(padded_sequences)\n",
        "\n",
        "    return np_sequences"
      ],
      "execution_count": 0,
      "outputs": []
    },
    {
      "cell_type": "markdown",
      "metadata": {
        "id": "he7kFAowd5ZV",
        "colab_type": "text"
      },
      "source": [
        "In `setup_predict` we then call the predict function using the returned ys. "
      ]
    },
    {
      "cell_type": "markdown",
      "metadata": {
        "id": "uGXevj2oeIBs",
        "colab_type": "text"
      },
      "source": [
        "## User Story: Making Prediction\n",
        "-----\n",
        "\n",
        "### Implementation:\n",
        "`predict()` is called in `setup_predict()` using the ys we just generated and padded, and the ts (key predictions we got from `map_sequences`)\n",
        "\n",
        "We import and load our model in the beggining by loading the joblib file which is stored in the static folder:"
      ]
    },
    {
      "cell_type": "code",
      "metadata": {
        "id": "ESK4fQzWp_va",
        "colab_type": "code",
        "colab": {}
      },
      "source": [
        "import os\n",
        "SITE_ROOT = os.path.realpath(os.path.dirname(__file__))\n",
        "path = os.path.join(SITE_ROOT, \"static\", \"weights.joblib\")\n",
        "model = joblib.load(path)"
      ],
      "execution_count": 0,
      "outputs": []
    },
    {
      "cell_type": "markdown",
      "metadata": {
        "id": "Ac4kGxr6qRcw",
        "colab_type": "text"
      },
      "source": [
        "Back in predict() we have to reshape our 3 dimentional matrix into a 2 dimentional matrix:"
      ]
    },
    {
      "cell_type": "code",
      "metadata": {
        "id": "__2O__hPqAP9",
        "colab_type": "code",
        "colab": {}
      },
      "source": [
        "N, nx, ny = batch_of_10.shape\n",
        "ys = batch_of_10.reshape((N,nx*ny))"
      ],
      "execution_count": 0,
      "outputs": []
    },
    {
      "cell_type": "markdown",
      "metadata": {
        "id": "8PetxeCcqlJv",
        "colab_type": "text"
      },
      "source": [
        "Then we just call the model's `score()` function to have our model classify our input, and score they classified results with the expected results:"
      ]
    },
    {
      "cell_type": "code",
      "metadata": {
        "id": "1EZrp5ZhrQ6y",
        "colab_type": "code",
        "colab": {}
      },
      "source": [
        "acc = model.score(ys, ts) # ys MUST be of shape (10, 270, 3)"
      ],
      "execution_count": 0,
      "outputs": []
    },
    {
      "cell_type": "markdown",
      "metadata": {
        "id": "HY2PcVxXrRpn",
        "colab_type": "text"
      },
      "source": [
        "If accuary is over 20% we return True, otherwise False.\n",
        "\n",
        "The returned values are stored in a dictionary as tuples of (input, authenticated):"
      ]
    },
    {
      "cell_type": "code",
      "metadata": {
        "id": "QkI_zeUHxZQd",
        "colab_type": "code",
        "colab": {}
      },
      "source": [
        "def setup_predict(sequences, predictions):\n",
        "    ys = padding(sequences)\n",
        "\n",
        "    auth = predict(ys, predictions)\n",
        "    row = {\"Keys\": predictions, \"Authenticated\": auth}\n",
        "\n",
        "    authenticate[\"data\"].append(row)"
      ],
      "execution_count": 0,
      "outputs": []
    },
    {
      "cell_type": "markdown",
      "metadata": {
        "id": "5vI-Cvd4rY4Z",
        "colab_type": "text"
      },
      "source": [
        "## User Story: Displaying Predictions\n",
        "-----\n",
        "\n",
        "### Motivation:\n",
        "\n",
        "Since we decided not to implement a logout feature, for now we just have our results being displayed in a table showing what batch of keys were used, and True/False if the user has been authenticated.\n",
        "\n",
        "### Implementation:\n",
        "We created `predictions_log.html` in templates, which displays a table with the given headers and data. The template takes `{{colnames}}` and `{{preds}}` as variables:"
      ]
    },
    {
      "cell_type": "code",
      "metadata": {
        "id": "8V4aQ9zxubV1",
        "colab_type": "code",
        "colab": {}
      },
      "source": [
        "<!DOCTYPE html>\n",
        "<html>\n",
        "    <head>\n",
        "        <!-- Form template from https://www.w3docs.com/tools/editor/5910 -->\n",
        "        <title>Display Predictions</title>\n",
        "        <link rel=\"stylesheet\" href=\"/static/css/table.css\">\n",
        "    </head>\n",
        "    <body>\n",
        "        <div class=\"preds\">\n",
        "            <table id=\"table\">\n",
        "                    <thead>\n",
        "                            <tr>\n",
        "                                {% for col in colnames%}\n",
        "                                <th>{{ col }}</th>\n",
        "                                {% endfor %}\n",
        "                            </tr>\n",
        "                        </thead>\n",
        "                        <tbody>\n",
        "                            {% for pred in preds%}\n",
        "                            <tr>\n",
        "                                {% for col in colnames %}\n",
        "                                <td>{{ pred[col]}}</td>\n",
        "                                {% endfor %}\n",
        "                            </tr>\n",
        "                            {% endfor %}\n",
        "                        </tbody>\n",
        "            </table>\n",
        "        </div>\n",
        "    </body>\n",
        "</html>"
      ],
      "execution_count": 0,
      "outputs": []
    },
    {
      "cell_type": "markdown",
      "metadata": {
        "id": "vUBCJvfuuhQ4",
        "colab_type": "text"
      },
      "source": [
        "The tutorial for how to create tables used a css file, so we used that as well, and slightly modified it."
      ]
    },
    {
      "cell_type": "markdown",
      "metadata": {
        "id": "I0bPFhCmvH5F",
        "colab_type": "text"
      },
      "source": [
        "When a user visits the `/pred` link in the flask app, the `printpred()` function is run, which renders the template using the input keys, and true/false authenticated values as values for our rows/cols:\n",
        "\n"
      ]
    },
    {
      "cell_type": "code",
      "metadata": {
        "id": "3X9AAputxpLu",
        "colab_type": "code",
        "colab": {}
      },
      "source": [
        "@app.route('/pred', methods=[\"GET\"])\n",
        "def printpred():\n",
        "\n",
        "    colnames=[\"Keys\", \"Authenticated\"]\n",
        "    rows = authenticate[\"data\"]\n",
        "    return render_template(\"predictions_log.html\", colnames=colnames, preds=rows)"
      ],
      "execution_count": 0,
      "outputs": []
    },
    {
      "cell_type": "markdown",
      "metadata": {
        "id": "De5QiFrzuz7H",
        "colab_type": "text"
      },
      "source": [
        "### References:\n",
        "1. Table and Css: https://www.w3schools.com/howto/howto_js_filter_table.asp"
      ]
    },
    {
      "cell_type": "markdown",
      "metadata": {
        "id": "3F-chSTEByo4",
        "colab_type": "text"
      },
      "source": [
        "## User Story: Logging watch and keyboard data\n",
        "-----\n",
        "\n",
        "### Motivation:\n",
        "While testing our model, we want to make sure that we are receiving data and that it is the correct data. \n",
        "\n",
        "### Implementation\n",
        "We created a template file called `log.html` which we used to display any list of data that we give it, and the length of the given list. The elements will then be displayed in a list using a for loop:  \n"
      ]
    },
    {
      "cell_type": "code",
      "metadata": {
        "id": "WqNmeGnRCK-B",
        "colab_type": "code",
        "colab": {}
      },
      "source": [
        "<!DOCTYPE html>\n",
        "<html>\n",
        "<head>\n",
        "</head>\n",
        "        <body style=\"background-color: white\">\n",
        "                {%for i in range(0, len_data)%}\n",
        "                    <li>{{data[i]}}</li>\n",
        "                {%endfor%}\n",
        "        </body>\n",
        "</html>"
      ],
      "execution_count": 0,
      "outputs": []
    },
    {
      "cell_type": "markdown",
      "metadata": {
        "id": "XYMlho2FCNG4",
        "colab_type": "text"
      },
      "source": [
        "When a user goes a `GET` request to `/watch` and `/keyboard` links in the web app, the functions will return the rendered template using `watch_data[\"data\"]` and `keyboard_data[\"data\"]` as the data argument, their lengths for the length argument. \n",
        "\n",
        "Here is an example for `/watch`:\n"
      ]
    },
    {
      "cell_type": "code",
      "metadata": {
        "id": "kAPY5uXbzuaQ",
        "colab_type": "code",
        "colab": {}
      },
      "source": [
        "@app.route('/watch', methods = ['GET', 'POST'])\n",
        "def get_watch():\n",
        "    # ...\n",
        "    \n",
        "    if request.method == 'GET':\n",
        "        len_watch = len(watch_data[\"data\"])\n",
        "        return render_template(\"log.html\", data=watch_data[\"data\"], len_data=len_watch)"
      ],
      "execution_count": 0,
      "outputs": []
    },
    {
      "cell_type": "markdown",
      "metadata": {
        "id": "ieyddhM_0BaG",
        "colab_type": "text"
      },
      "source": [
        "## User Story: Parallelism\n",
        "-----\n",
        "\n",
        "### Motivation:\n",
        "Our webapp takes a long time to receive and set up data, especially during the processing data stages. We wanted to speed the process up by using threadding to work in parallel. \n",
        "\n",
        "### Design Considerations: \n",
        "A few things to note:\n",
        "* When introducing threadding we need to be very careful when accessing shared data. \n",
        "\n",
        "* Most of our processing funtion access the watch_data and keyboard_data dictionaries which are shared. \n",
        "\n",
        "* We can use locks to block other threads from accessing shared data, if one thread is already accessing it\n",
        "\n",
        "* It probably isn't feasable to use locks where the are constantly accessing shared data, so don't use threadding if that is the case \n",
        "\n",
        "* We cannot have threads modifying the watch_data and keyboard_data dictionary/lists because the order matters\n",
        "\n",
        "With that in mind, we decided only to parallelize everything after `setup_predict` because the function only accesses the shared variable `authenticate` once, at the very end, and the order doesn't really matter. \n",
        "\n",
        "### Implementation\n",
        "\n",
        "The lock is a global variable that is created when the flask app is run for the first time: `lock = threading.Lock()`. \n",
        "\n",
        "In `seperate_key_events` we change the function to have a create a thread which calls `setup_predict()`, using the sequences, predictions, and lock as parameters. We use `threadding.start()` to start the thread:"
      ]
    },
    {
      "cell_type": "code",
      "metadata": {
        "id": "8vpoYV3gAskI",
        "colab_type": "code",
        "colab": {}
      },
      "source": [
        "def seperate_key_events(timestamp, event, key):\n",
        "  # ...\n",
        "  if len(all_keys_pressed[\"data\"]) > 11 and len(all_keys_released[\"data\"]) > 11:\n",
        "    # ...\n",
        "    if ret is not None:\n",
        "      # ...\n",
        "\n",
        "      sequences, predictions = map_sequences(pressed, released)\n",
        "      thread = threading.Thread(target=setup_predict, args=(sequences, predictions, lock))\n",
        "      thread.start()"
      ],
      "execution_count": 0,
      "outputs": []
    },
    {
      "cell_type": "markdown",
      "metadata": {
        "id": "t3m39mtNBNeE",
        "colab_type": "text"
      },
      "source": [
        "When we are ready to access `authenticate` we get the lock using `lock.aquire` and release the lock when finished (or if an error occurs) by doing `lock.rekease()`:"
      ]
    },
    {
      "cell_type": "code",
      "metadata": {
        "id": "UtlEKSmPBtmj",
        "colab_type": "code",
        "colab": {}
      },
      "source": [
        "def setup_predict(sequences, predictions, lock):\n",
        "  \n",
        "  # ...\n",
        "\n",
        "  lock.acquire()\n",
        "  try:\n",
        "      authenticate[\"data\"].append(row)\n",
        "  except:\n",
        "      lock.release()\n",
        "  lock.release()"
      ],
      "execution_count": 0,
      "outputs": []
    },
    {
      "cell_type": "markdown",
      "metadata": {
        "id": "AdCFHsNlB8c6",
        "colab_type": "text"
      },
      "source": [
        "## User Story: Mouse Data Collection\n",
        "-----\n",
        "\n",
        "**SCRAPPED**\n",
        "\n",
        "### Motivation:\n",
        "We are looking to authenticate a user based on their trackpad movements as well as their keyboard strokes. For this reason, we would like the mouse movements from the webpage to be collected and put into a format where the they can then be sent to our backend server to be processed using our tool.\n",
        "\n",
        "### Implementation:\n",
        "In a script tag on **main.html**, on every mouse move event, create a Javascript object saving the deltaX, deltaY and Timestamp(Unix)."
      ]
    },
    {
      "cell_type": "code",
      "metadata": {
        "id": "pMCy-vi-Co_E",
        "colab_type": "code",
        "colab": {}
      },
      "source": [
        "$( \"body\" ).mousemove(function( e ) {\n",
        "    var mouseCoords = {\n",
        "        'X': e.pageX-prevX,\n",
        "        'Y': e.pageY-prevY,\n",
        "        'timestamp': Date.now()\n",
        "    };"
      ],
      "execution_count": 0,
      "outputs": []
    },
    {
      "cell_type": "markdown",
      "metadata": {
        "id": "BvSNiK9oCzx2",
        "colab_type": "text"
      },
      "source": [
        "We then send this data in the form POST request to our Flask app using JSON to store the data payload. "
      ]
    },
    {
      "cell_type": "code",
      "metadata": {
        "id": "1_sAAWSFDNTc",
        "colab_type": "code",
        "colab": {}
      },
      "source": [
        "if(mouseCoords.X==0 && mouseCoords.Y==0){\n",
        "\n",
        "}else{\n",
        "    var jsonMouseData = JSON.stringify(mouseCoords);\n",
        "    \n",
        "    //Send mouse data using post call\n",
        "    $.ajax({ \n",
        "        method: \"POST\", \n",
        "        url: \"/main\",\n",
        "        data: jsonMouseData\n",
        "    }).done(function(data){\n",
        "       //success\n",
        "    }).fail(function(err){\n",
        "    });"
      ],
      "execution_count": 0,
      "outputs": []
    },
    {
      "cell_type": "markdown",
      "metadata": {
        "id": "IamAFxnMDwW_",
        "colab_type": "text"
      },
      "source": [
        "For testing purposes we would'd also display the code to the page."
      ]
    },
    {
      "cell_type": "code",
      "metadata": {
        "id": "mdvh8YIeDyu-",
        "colab_type": "code",
        "colab": {}
      },
      "source": [
        "$('#mouseMovement').prepend('<p><small>' +(mouseCoords.X)+' , '+(mouseCoords.Y)+' : ' +mouseCoords.timestamp+'</small></p>');"
      ],
      "execution_count": 0,
      "outputs": []
    },
    {
      "cell_type": "markdown",
      "metadata": {
        "id": "r9lcXkt4DSH5",
        "colab_type": "text"
      },
      "source": [
        "**This idea was scrapped early on because the group realised that the movements on a trackpad were too small to work with, so the mouse data is no longer being displayed in `/main`**"
      ]
    },
    {
      "cell_type": "markdown",
      "metadata": {
        "id": "eWZ_LzoJC2f5",
        "colab_type": "text"
      },
      "source": [
        "### Challenges: \n",
        "One challenge we faced was either the server calls where delayed, or multiple server calls where not getting sent due to the mouse being moved more than 50 times per second. In future implementations, the mouse data should be sent in batches of 5 of 10 to prevent delays."
      ]
    },
    {
      "cell_type": "markdown",
      "metadata": {
        "id": "WtlbmhXxAsY5",
        "colab_type": "text"
      },
      "source": [
        "# **Section 2** - Watch App\n",
        "----\n",
        "The implementation of the Apple Watch application was one of the essential parts of the project that allowed to collect the accelerometer data as well as to determine the type of activity (running, walkin, static) the user is doing.\n"
      ]
    },
    {
      "cell_type": "markdown",
      "metadata": {
        "id": "3BBzPpuFRF6U",
        "colab_type": "text"
      },
      "source": [
        "## User Story: Collecting accelerometer and gyroscope data\n",
        "-----\n",
        "\n",
        "### Motivation:\n",
        "\n",
        "User's accelerometer and gyroscope data were collected in order to use this data to train the model and later in the web application to determine whether the person that is using the application should be deauthenticated. \n",
        "\n",
        "\n",
        "### Implementation:\n",
        "This task was implemented using the CoreMotion framework that allowed to check whether the motion data is available, if the device motion was not available the appliction would not proceed. "
      ]
    },
    {
      "cell_type": "code",
      "metadata": {
        "id": "T196JMCORKMO",
        "colab_type": "code",
        "colab": {}
      },
      "source": [
        "if !motionManager.isDeviceMotionAvailable {\n",
        "               print(\"Device Motion is not available.\")\n",
        "               return\n",
        "}"
      ],
      "execution_count": 0,
      "outputs": []
    },
    {
      "cell_type": "markdown",
      "metadata": {
        "id": "t25Rj0HDRTu2",
        "colab_type": "text"
      },
      "source": [
        "If the device motion data was available, then we would call the processDeviceMotion() with a deviceMotion (the motion data) parameter to process the data. It would also update the user screen to say \"Collecting data\"."
      ]
    },
    {
      "cell_type": "code",
      "metadata": {
        "id": "AHSdyJf-RVo_",
        "colab_type": "code",
        "colab": {}
      },
      "source": [
        " if deviceMotion != nil {\n",
        "                   self.processDeviceMotion(deviceMotion!)\n",
        "                   self.accelerationString = \"Collecting data\"\n",
        "                   self.gyroscopeString = \"Collecting data\"\n",
        " }"
      ],
      "execution_count": 0,
      "outputs": []
    },
    {
      "cell_type": "markdown",
      "metadata": {
        "id": "kkeHNE1iRYuW",
        "colab_type": "text"
      },
      "source": [
        "The processDeviceMotion() function, logged the data to the IDE that allowed us to track the data collection progress for the development purposes. It aslo created and sent the POST requst that will be implemented as a separate user story. "
      ]
    },
    {
      "cell_type": "code",
      "metadata": {
        "id": "5svurQPjRa6E",
        "colab_type": "code",
        "colab": {}
      },
      "source": [
        " os_log(\"Motion: %@, %@, %@, %@\",\n",
        "                 String(timestamp),\n",
        "                 String(deviceMotion.userAcceleration.x),\n",
        "                 String(deviceMotion.userAcceleration.y),\n",
        "                 String(deviceMotion.userAcceleration.z))"
      ],
      "execution_count": 0,
      "outputs": []
    },
    {
      "cell_type": "markdown",
      "metadata": {
        "id": "wUuDjUn7RdpF",
        "colab_type": "text"
      },
      "source": [
        "## User Story: Determining the type of user activity (eliminated in the development process)\n",
        "-----\n",
        "\n",
        "### Motivation:\n",
        "\n",
        "In addition to recording the user's accelerometer and gyroscope data, the group decided to also determin the type of activity the user was performing (static, walking, running etc.) that would allow the system to log user out if the user was not performin the static (sitting-typing or standing-typing) activity. This would serve as an additional log out feature in addition to the main one of deauthenticating the user when the keyboard and watch data so not correlate.\n",
        "\n",
        "\n",
        "### Implementation:\n",
        "CoreMotion allowed us to implement this feature using CMMotionActivityManager object that stores the data about the device motion. This was implemented in a similar manner to the collection of the accelerometer data. If the activity data was available, the function would store it in a string (that later could be used to display the activity or send it to the server)"
      ]
    },
    {
      "cell_type": "code",
      "metadata": {
        "id": "8FqZ6HTBRjO6",
        "colab_type": "code",
        "colab": {}
      },
      "source": [
        "func startActUpdates() {\n",
        "        if CMMotionActivityManager.isActivityAvailable() {\n",
        "            motionActivityManager.startActivityUpdates(to: queue, withHandler: {\n",
        "                activityData\n",
        "                in\n",
        "                if activityData!.walking == true {\n",
        "                    self.activityStr = \"Walking\"\n",
        "                } else if activityData!.running == true {\n",
        "                    self.activityStr = \"Running\"\n",
        "                } else if activityData!.automotive == true {\n",
        "                    self.activityStr = \"Automotive\"\n",
        "                } else if activityData!.stationary == true {\n",
        "                    self.activityStr = \"Stationary\"\n",
        "                }\n",
        "            })\n",
        "        }\n",
        "    }"
      ],
      "execution_count": 0,
      "outputs": []
    },
    {
      "cell_type": "markdown",
      "metadata": {
        "id": "AXn_gX5bRlY-",
        "colab_type": "text"
      },
      "source": [
        "### Challenges:\n",
        "\n",
        "The user story was eliminated in the process since there was a delay (about a minute usually) for the watch to process the motion data and switch between the activities which was deemed not efficient for our project."
      ]
    },
    {
      "cell_type": "markdown",
      "metadata": {
        "id": "spGIKTYsRpoc",
        "colab_type": "text"
      },
      "source": [
        "## User Story: Sending accelerometer data to the server\n",
        "-----\n",
        "\n",
        "### Motivation:\n",
        "\n",
        "The web application running on a server requires movement data from asmartwatch in order to determine whether a user should be deauthenticated. The data is sent using POST HTTPS request. \n",
        "\n",
        "\n",
        "### Implementation:\n",
        "In order to make the data more organized, we created a new struct WatchData that would allow us to store the data that is needed to be send to the server."
      ]
    },
    {
      "cell_type": "code",
      "metadata": {
        "id": "MZrtWqEMRqmH",
        "colab_type": "code",
        "colab": {}
      },
      "source": [
        " struct WatchData: Codable {\n",
        "        var Ax: Double\n",
        "        var Ay: Double\n",
        "        var Az: Double\n",
        "        var TimeStamp: Int64\n",
        "  }"
      ],
      "execution_count": 0,
      "outputs": []
    },
    {
      "cell_type": "markdown",
      "metadata": {
        "id": "iClmwSt0Rwu5",
        "colab_type": "text"
      },
      "source": [
        "Then an HTTPS POST request is created after collecting the data, which is sent to the server as a JSON object."
      ]
    },
    {
      "cell_type": "code",
      "metadata": {
        "id": "GMK2aXw8Rz4T",
        "colab_type": "code",
        "colab": {}
      },
      "source": [
        "let s = WatchData(Ax: deviceMotion.userAcceleration.x, Ay: deviceMotion.userAcceleration.y, Az: deviceMotion.userAcceleration.z, TimeStamp: timestamp)\n",
        "\n",
        "var request = URLRequest(url: URL(string: \"https://dev3.horizon.tom.srl/watch\")!)\n",
        "request.setValue(\"application/json\", forHTTPHeaderField: \"Content-Type\")\n",
        "request.httpMethod = \"POST\"\n",
        "\n",
        "let jsonData = try? JSONEncoder().encode(newTodoItem)\n",
        "request.httpBody = jsonData"
      ],
      "execution_count": 0,
      "outputs": []
    },
    {
      "cell_type": "markdown",
      "metadata": {
        "id": "2b-bLswNR4UZ",
        "colab_type": "text"
      },
      "source": [
        "After sending the HTTPS request, if the request is accepted, the program prints the returned response string, otherwise it prints an error."
      ]
    },
    {
      "cell_type": "code",
      "metadata": {
        "id": "Lfd0bq0kR7kJ",
        "colab_type": "code",
        "colab": {}
      },
      "source": [
        "let task = URLSession.shared.dataTask(with: request) { (data, response, error) in\n",
        "                    if let error = error {\n",
        "                        print(\"Error took place \\(error)\")\n",
        "                        return\n",
        "                    }\n",
        "\n",
        "                    if let data = data, let dataString = String(data: data, encoding: .utf8) {\n",
        "                        print(\"Response data string:\\n \\(dataString)\")\n",
        "                    }\n",
        "            }"
      ],
      "execution_count": 0,
      "outputs": []
    },
    {
      "cell_type": "markdown",
      "metadata": {
        "id": "dRMIAZ6_A53T",
        "colab_type": "text"
      },
      "source": [
        "# **Section 3** - Training Machine Learning Model\n",
        "----\n",
        "We needed to implement machine learning into our project, and create a model from scratch to be able to process Apple Watch movements and keyboard presses."
      ]
    },
    {
      "cell_type": "markdown",
      "metadata": {
        "id": "-1LdNvRtS3Og",
        "colab_type": "text"
      },
      "source": [
        "## User Story: Setting up\n",
        "-----\n",
        "\n",
        "### Motivation:\n",
        "Before we are able to write anything, we need to import the data files. \n",
        "\n",
        "\n",
        "### Implementation:\n",
        "Since we are working in google colab, we can upload the data files to google drive, and them import them using `glob` which finds all pathnames in the google drive, based on a pattern. In this case we are looking for all `.log` and `.csv` files in the main project folder."
      ]
    },
    {
      "cell_type": "code",
      "metadata": {
        "id": "_eBv3L-UXkiw",
        "colab_type": "code",
        "colab": {}
      },
      "source": [
        "# First we connect to google drive\n",
        "from google.colab import drive\n",
        "drive.mount('/content/gdrive', force_remount=True)"
      ],
      "execution_count": 0,
      "outputs": []
    },
    {
      "cell_type": "code",
      "metadata": {
        "id": "RU9knWRLVFPY",
        "colab_type": "code",
        "colab": {}
      },
      "source": [
        "watch_data = path_to_watch + '*.csv'\n",
        "keyboard_log = path_to_keys + '*.log'\n",
        "\n",
        "watch_acceleration = {}\n",
        "keyboard_logs = {}\n",
        "\n",
        "for file in glob.glob(watch_data):\n",
        "  filename = file.split(\"/\")[-1].strip(\".csv\").strip(\"watch_\")\n",
        "  wa = [line.strip().split(\",\") for line in open(file) if line.strip().split(\",\") != '']\n",
        "  watch_acc = wa\n",
        "\n",
        "for file in glob.glob(keyboard_log):\n",
        "  filename = int(file.split(\"/\")[-1].strip(\".log\").strip(\"keys_\"))-1\n",
        "  kd = [line.strip() for line in open(file)]\n",
        "  keyboard_logs[filename] = kd"
      ],
      "execution_count": 0,
      "outputs": []
    },
    {
      "cell_type": "markdown",
      "metadata": {
        "id": "Zomj8tQQVssH",
        "colab_type": "text"
      },
      "source": [
        "The watch data is stored as a string `\"timestamp, acceleration_x, acceleration_y, acceleration_z\"` and the keyboard data is stores as another string `\"index.html:xx timestamp, event, key, location\"`. "
      ]
    },
    {
      "cell_type": "markdown",
      "metadata": {
        "id": "_heUO4GukH8S",
        "colab_type": "text"
      },
      "source": [
        "## User Story: Data Processing Functions\n",
        "-----\n",
        "\n",
        "### Motivation:\n",
        "In the same way we do on Zebra web, we need to seperate all our keys based on their `keyup` and `keypressed` events. We also want to assign every event pair a sequence of watch data. Finally we want to pad these sequences and convert everything into a numpy array.\n",
        "\n",
        "### Design Considerations: \n",
        "* We want every sequence to begin from when a key is lifted to when the next key is pressed.\n",
        "* Since the first event is always a keypress, and we we want our sequence to begin with a keyup, we need to remove the first element of every batch.\n",
        "* We also need to remove the last event in the batch, which is always a keyup event, to account for the offset created from the previous step.\n",
        "* Every batch is equal to all the data in one key log file.\n",
        "\n",
        "### Implementation:\n",
        "The only difference in this implementation versus the one implemented in Zebra Web is that we are not working with JSON formatted data, but strings containing the logged info.\n",
        "\n",
        "Each key event is formatted as `\"index.html:xx timestamp, event, key, location\"`. We use the following regex to extract the timestamp, event, and key from the string:\n"
      ]
    },
    {
      "cell_type": "code",
      "metadata": {
        "id": "EVqXf42NHpmX",
        "colab_type": "code",
        "colab": {}
      },
      "source": [
        "p = re.compile(r\"index.html:[0-9]* (?P<timestamp>[0-9]*), (?P<event>[a-z]*), (?P<key>([a-zA-Z0-9]*|[^a-zA-Z0-9_])), (?P<location>(left|center|right))\")\n",
        "\n",
        "timestamp = int(s.group(\"timestamp\"))\n",
        "event     = s.group(\"event\")\n",
        "key       = s.group(\"key\").lower()"
      ],
      "execution_count": 0,
      "outputs": []
    },
    {
      "cell_type": "markdown",
      "metadata": {
        "id": "DBqyGfQYIAKV",
        "colab_type": "text"
      },
      "source": [
        "Another difference from the web implementation is that we are batching the data seperately based on which log file keys are found in.\n",
        "\n",
        "On the web we only work with a single batch of 11 pairs of key events. \n",
        "\n",
        "We need to remove the first and last events for every batch before combining the lists together.\n",
        "\n",
        "Here is how we had the code modified to work when using multiple batches:"
      ]
    },
    {
      "cell_type": "code",
      "metadata": {
        "id": "VRE82MMQJi95",
        "colab_type": "code",
        "colab": {}
      },
      "source": [
        "# Seperate\n",
        "for file_number in keyboard_logs.keys():\n",
        "  key_log = keyboard_logs[file_number] \n",
        "\n",
        "  keys_pressed = []\n",
        "  keys_released = []\n",
        "  for line in key_log:\n",
        "    # ...\n",
        "\n",
        "# Combine keyup-keypress pairs\n",
        "keys_pressed = []\n",
        "keys_released = []\n",
        "\n",
        "for index in all_keys_pressed.keys():\n",
        "  kp = all_keys_pressed[index]\n",
        "  keys_pressed.extend(kp[1:]) # remove the first keypress from each file\n",
        "                              # before adding to the master keys_pressed list\n",
        "\n",
        "for index in all_keys_released.keys():\n",
        "  kr = all_keys_released[index]\n",
        "  keys_released.extend(kr[0:-1]) # remove the last keyup from each file"
      ],
      "execution_count": 0,
      "outputs": []
    },
    {
      "cell_type": "markdown",
      "metadata": {
        "id": "hD3PxEpGKiwM",
        "colab_type": "text"
      },
      "source": [
        "The mapping function that maps every key to a sequence of watch movements is identical to the one written on Zebra web, as the Zebra web is a direct copy of the one written for the backend.\n",
        "\n",
        "After the sequences are mapped to predictions, we need to call the padding function. \n",
        "\n",
        "Unlike the padding function in Zebra web, this padding function will look for the longest sequence length and pad every other sequence to be the same length:"
      ]
    },
    {
      "cell_type": "code",
      "metadata": {
        "id": "3T4qBNUCNr7i",
        "colab_type": "code",
        "colab": {}
      },
      "source": [
        "max_seq_len = len(max(sequences,key=len))\n",
        "\n",
        "padded_sequences = []\n",
        "for sequence in sequences:\n",
        "  while len(sequence) < max_len:\n",
        "     sequence.append([0, 0, 0])\n",
        "     # ..."
      ],
      "execution_count": 0,
      "outputs": []
    },
    {
      "cell_type": "markdown",
      "metadata": {
        "id": "dVYSlXNjN-o2",
        "colab_type": "text"
      },
      "source": [
        "**Since the longest sequence (after manually fixing our data many times) is 270 movements long, we set that as the maximum sequence length on the Zebra web end.***"
      ]
    },
    {
      "cell_type": "markdown",
      "metadata": {
        "id": "lp546GumYMwi",
        "colab_type": "text"
      },
      "source": [
        "### Challenges: \n",
        "There were a few issues with the keyboard data when creating sequences: \n",
        "* The watch still records data if the user is no longer typing.\n",
        "* If every long pause is included as a sequence, the calculations will be too slow\n",
        "* We needed to discard movements that were longer than a certian threshold\n",
        "\n",
        "This was fixed by taking advantage of the way we create sequences out of every `key.log` file. Since we treat every log file as one batch, we always remove the first and last key events. We have to manually split the log files into two seperete log files, where the second file contains everything after the time the user gets back to typing after the pause."
      ]
    },
    {
      "cell_type": "markdown",
      "metadata": {
        "id": "B5LFcyaEKSf4",
        "colab_type": "text"
      },
      "source": [
        "## User Story: Models\n",
        "-----\n",
        "\n",
        "### Motivation:\n",
        "The *Pitfalls in Designing Zero-Effort Deauthentication* paper discusses using a Random Forest Classifier for implementing their version of ZEBRA, so we decided to do the same.\n",
        "\n",
        "\n",
        "### Implementation\n",
        "\n",
        "We first reshaped our numpy sequence data into two dimentional arrays:\n"
      ]
    },
    {
      "cell_type": "code",
      "metadata": {
        "id": "9ClIOdAdQBNE",
        "colab_type": "code",
        "colab": {}
      },
      "source": [
        "# Our shape is (5680, 270, 3)\n",
        "\n",
        "# Sklearn expects 2d arrays... gotta reshape\n",
        "N, nx, ny = np_sequences.shape\n",
        "new_sequences = np_sequences.reshape((N,nx*ny))"
      ],
      "execution_count": 0,
      "outputs": []
    },
    {
      "cell_type": "markdown",
      "metadata": {
        "id": "Rhiqf5smQG6R",
        "colab_type": "text"
      },
      "source": [
        "Next we want to say how much of our data we want to use for training, and how much for testing. We do the same for our predictions:"
      ]
    },
    {
      "cell_type": "code",
      "metadata": {
        "id": "p2ruGQPTQXcu",
        "colab_type": "code",
        "colab": {}
      },
      "source": [
        "# Usually we want to have about 70% Training and 30% for Testing\n",
        "# 70% of 5680 is about 3976\n",
        "train_data, test_data = new_sequences[:3976,:], new_sequences[3976:,:]\n",
        "train_ts, test_ts = predictions[:3976], predictions[3976:]"
      ],
      "execution_count": 0,
      "outputs": []
    },
    {
      "cell_type": "markdown",
      "metadata": {
        "id": "ow6eK6t2QjYG",
        "colab_type": "text"
      },
      "source": [
        "Next we create the RF Classifier using the hyperparametes following hyperparameters: "
      ]
    },
    {
      "cell_type": "code",
      "metadata": {
        "id": "r0zbc6_bQ4b4",
        "colab_type": "code",
        "colab": {}
      },
      "source": [
        "rfc=RandomForestClassifier(n_estimators=150, max_features=0.15, min_samples_leaf=60, oob_score=True)"
      ],
      "execution_count": 0,
      "outputs": []
    },
    {
      "cell_type": "markdown",
      "metadata": {
        "id": "92bQGOyHQ4qb",
        "colab_type": "text"
      },
      "source": [
        "* `n_estimatiors` is the number of trees we have in our forest, we need a high number, but not too high since training becomes too slow; we chose 150 trees\n",
        "\n",
        "* `min_sample_leaf` is the minimum number of samples required to be a leaf node; the tutorial we were using suggested using a value over 50, so we used 60\n",
        "\n",
        "* `max_features` is the number of features to look at when deciding to split; 0.15 means the classifier will consider 15% of the variables \n",
        "\n",
        "* `oob_score` is a cross validation method; cross validation is used to further tune hyperparameters, so we kept it set to True\n",
        "\n",
        "\n",
        "Finally we train and test the model:"
      ]
    },
    {
      "cell_type": "code",
      "metadata": {
        "id": "ceMoF7OPTiyt",
        "colab_type": "code",
        "colab": {}
      },
      "source": [
        "# Train the model using the training set\n",
        "rfc.fit(train_data,train_ts)\n",
        "\n",
        "# Test our accuracy\n",
        "test_ys=rfc.predict(test_data)"
      ],
      "execution_count": 0,
      "outputs": []
    },
    {
      "cell_type": "markdown",
      "metadata": {
        "id": "V_pb83EpTkna",
        "colab_type": "text"
      },
      "source": [
        "We measure the accuracy using `metrics.accuracy_score(test_ts, test_ys)` which gave us about 23% accuracy. \n",
        "\n",
        "Finally we store the state of our model using the joblib package:"
      ]
    },
    {
      "cell_type": "code",
      "metadata": {
        "id": "Q4-NilIjT026",
        "colab_type": "code",
        "colab": {}
      },
      "source": [
        "import joblib\n",
        "\n",
        "filename = \"/content/gdrive/My Drive/School Winter 2020/Csc490/data/weights.joblib\"\n",
        "weights = joblib.dump(rfc,filename)"
      ],
      "execution_count": 0,
      "outputs": []
    },
    {
      "cell_type": "markdown",
      "metadata": {
        "id": "_SQ7MP3NPaoA",
        "colab_type": "text"
      },
      "source": [
        "### References: \n",
        "1. Pitfalls Paper: https://arxiv.org/pdf/1505.05779.pdf\n",
        "2. Tuning Random Forest: https://www.analyticsvidhya.com/blog/2015/06/tuning-random-forest-model/ "
      ]
    }
  ]
}